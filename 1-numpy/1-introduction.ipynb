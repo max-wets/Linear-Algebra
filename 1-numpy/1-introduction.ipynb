{
 "cells": [
  {
   "cell_type": "markdown",
   "id": "0380b16a",
   "metadata": {},
   "source": [
    "# 1. NumPy N-dimensional Array"
   ]
  },
  {
   "cell_type": "markdown",
   "id": "3a9b7d55",
   "metadata": {},
   "source": [
    "The main data structure in NumPy is the ndarray,\n",
    "which is a shorthand name for N-dimensional array. When working with NumPy, data in an\n",
    "ndarray is simply referred to as an array. It is a fixed-sized array in memory that contains data\n",
    "of the same type, such as integers or floating point values."
   ]
  },
  {
   "cell_type": "code",
   "execution_count": 2,
   "id": "2fb0806c",
   "metadata": {},
   "outputs": [
    {
     "name": "stdout",
     "output_type": "stream",
     "text": [
      "[1. 2. 3.]\n",
      "(3,)\n",
      "float64\n"
     ]
    }
   ],
   "source": [
    "# create array\n",
    "from numpy import array\n",
    "# create array\n",
    "l = [1.0, 2.0, 3.0]\n",
    "a = array(l)\n",
    "# display array\n",
    "print(a)\n",
    "# display array shape\n",
    "print(a.shape)\n",
    "# display array data type\n",
    "print(a.dtype)"
   ]
  },
  {
   "cell_type": "markdown",
   "id": "b551977b",
   "metadata": {},
   "source": [
    "Running the example prints the contents of the ndarray, the shape, which is a one-\n",
    "dimensional array with 3 elements, and the data type, which is a 64-bit floating point."
   ]
  },
  {
   "cell_type": "markdown",
   "id": "12f74782",
   "metadata": {},
   "source": [
    "# 2. Functions to Create Arrays\n",
    "There are more convenience functions for creating fixed-sized arrays that you may encounter or\n",
    "be required to use. Let’s look at just a few."
   ]
  },
  {
   "cell_type": "markdown",
   "id": "7ba465e5",
   "metadata": {},
   "source": [
    "## 2.1 Empty"
   ]
  },
  {
   "cell_type": "markdown",
   "id": "9b2c6981",
   "metadata": {},
   "source": [
    "The empty() function will create a new array of the specified shape. The argument to the\n",
    "function is an array or tuple that specifies the length of each dimension of the array to create.\n",
    "The values or content of the created array will be random and will need to be assigned before\n",
    "use."
   ]
  },
  {
   "cell_type": "code",
   "execution_count": 3,
   "id": "53c35ddc",
   "metadata": {},
   "outputs": [
    {
     "name": "stdout",
     "output_type": "stream",
     "text": [
      "[[ 1.27189941e-30 -2.54379882e-30  6.35949704e-31]\n",
      " [-2.54379882e-30  5.53276243e-30 -1.71706420e-30]\n",
      " [ 6.35949704e-31 -1.71706420e-30  9.85722042e-31]]\n"
     ]
    }
   ],
   "source": [
    "# create empty array\n",
    "from numpy import empty\n",
    "a = empty([3,3])\n",
    "print(a)"
   ]
  },
  {
   "cell_type": "markdown",
   "id": "6be983da",
   "metadata": {},
   "source": [
    "## 2.2 Zeroes\n",
    "The zeros() function will create a new array of the specified size with the contents filled with\n",
    "zero values. The argument to the function is an array or tuple that specifies the length of each\n",
    "dimension of the array to create."
   ]
  },
  {
   "cell_type": "code",
   "execution_count": 4,
   "id": "f51cf876",
   "metadata": {},
   "outputs": [
    {
     "name": "stdout",
     "output_type": "stream",
     "text": [
      "[[0. 0. 0. 0. 0.]\n",
      " [0. 0. 0. 0. 0.]\n",
      " [0. 0. 0. 0. 0.]]\n"
     ]
    }
   ],
   "source": [
    "# create zero array\n",
    "from numpy import zeros\n",
    "a = zeros([3,5])\n",
    "print(a)"
   ]
  },
  {
   "cell_type": "markdown",
   "id": "95e28327",
   "metadata": {},
   "source": [
    "## 2.3 Ones\n",
    "The ones() function will create a new array of the specified size with the contents filled with\n",
    "one values. The argument to the function is an array or tuple that specifies the length of each\n",
    "dimension of the array to create."
   ]
  },
  {
   "cell_type": "code",
   "execution_count": 5,
   "id": "f7fbb9a9",
   "metadata": {},
   "outputs": [
    {
     "name": "stdout",
     "output_type": "stream",
     "text": [
      "[1. 1. 1. 1. 1.]\n"
     ]
    }
   ],
   "source": [
    "# create one array\n",
    "from numpy import ones\n",
    "a = ones([5])\n",
    "print(a)"
   ]
  },
  {
   "cell_type": "markdown",
   "id": "15965bfe",
   "metadata": {},
   "source": [
    "# 3. Combining arrays\n",
    "NumPy provides many functions to create new arrays from existing arrays. Let’s look at two of\n",
    "the most popular functions you may need or encounter."
   ]
  },
  {
   "cell_type": "markdown",
   "id": "ce4b213d",
   "metadata": {},
   "source": [
    "## 3.1 Vertical stack\n",
    "Given two or more existing arrays, you can stack them vertically using the vstack() function.\n",
    "For example, given two one-dimensional arrays, you can create a new two-dimensional array\n",
    "with two rows by vertically stacking them."
   ]
  },
  {
   "cell_type": "code",
   "execution_count": 6,
   "id": "48dc6b5d",
   "metadata": {},
   "outputs": [
    {
     "name": "stdout",
     "output_type": "stream",
     "text": [
      "[1 2 3]\n",
      "[4 5 6]\n",
      "[[1 2 3]\n",
      " [4 5 6]]\n",
      "(2, 3)\n"
     ]
    }
   ],
   "source": [
    "# create array with vstack\n",
    "from numpy import array\n",
    "from numpy import vstack\n",
    "# create first array\n",
    "a1 = array([1,2,3])\n",
    "print(a1)\n",
    "# create second array\n",
    "a2 = array([4,5,6])\n",
    "print(a2)\n",
    "# vertical stack\n",
    "a3 = vstack((a1, a2))\n",
    "print(a3)\n",
    "print(a3.shape)"
   ]
  },
  {
   "cell_type": "markdown",
   "id": "14ac1c75",
   "metadata": {},
   "source": [
    "## 3.2 Horizontal stack\n",
    "Given two or more existing arrays, you can stack them horizontally using the hstack() function.\n",
    "For example, given two one-dimensional arrays, you can create a new one-dimensional array or\n",
    "one row with the columns of the first and second arrays concatenated."
   ]
  },
  {
   "cell_type": "code",
   "execution_count": 1,
   "id": "cb898b01",
   "metadata": {},
   "outputs": [
    {
     "name": "stdout",
     "output_type": "stream",
     "text": [
      "[1 2 3]\n",
      "[4 5 6]\n",
      "[1 2 3 4 5 6]\n",
      "(6,)\n"
     ]
    }
   ],
   "source": [
    "# create array with hstack\n",
    "from numpy import array\n",
    "from numpy import hstack\n",
    "# create first array\n",
    "a1 = array([1,2,3])\n",
    "print(a1)\n",
    "# create second array\n",
    "a2 = array([4,5,6])\n",
    "print(a2)\n",
    "# create horizontal stack\n",
    "a3 = hstack((a1, a2))\n",
    "print(a3)\n",
    "print(a3.shape)"
   ]
  }
 ],
 "metadata": {
  "kernelspec": {
   "display_name": "llm",
   "language": "python",
   "name": "python3"
  },
  "language_info": {
   "codemirror_mode": {
    "name": "ipython",
    "version": 3
   },
   "file_extension": ".py",
   "mimetype": "text/x-python",
   "name": "python",
   "nbconvert_exporter": "python",
   "pygments_lexer": "ipython3",
   "version": "3.13.3"
  }
 },
 "nbformat": 4,
 "nbformat_minor": 5
}
