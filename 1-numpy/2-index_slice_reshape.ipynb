{
 "cells": [
  {
   "cell_type": "markdown",
   "id": "f7e746d6",
   "metadata": {},
   "source": [
    "# 1. From List to Arrays\n"
   ]
  },
  {
   "cell_type": "markdown",
   "id": "20bb092f",
   "metadata": {},
   "source": [
    "## 1.1 One-Dimensional List to Array\n",
    "You may load your data or generate your data and have access to it as a list. You can convert a\n",
    "one-dimensional list of data to an array by calling the array() NumPy function."
   ]
  },
  {
   "cell_type": "code",
   "execution_count": 1,
   "id": "175bd376",
   "metadata": {},
   "outputs": [
    {
     "name": "stdout",
     "output_type": "stream",
     "text": [
      "[11 22 33 44 55]\n",
      "<class 'numpy.ndarray'>\n"
     ]
    }
   ],
   "source": [
    "# create one-dimensional array\n",
    "from numpy import array\n",
    "# list of data\n",
    "data = [11, 22, 33, 44, 55]\n",
    "# array of data\n",
    "data = array(data)\n",
    "print(data)\n",
    "print(type(data))"
   ]
  },
  {
   "cell_type": "markdown",
   "id": "74a56668",
   "metadata": {},
   "source": [
    "## 1.2 Two-Dimensional List of Lists to Array\n",
    "It is more likely in machine learning that you will have two-dimensional data. That is a table of\n",
    "data where each row represents a new observation and each column a new feature. Perhaps you\n",
    "generated the data or loaded it using custom code and now you have a list of lists. Each list\n",
    "represents a new observation. You can convert your list of lists to a NumPy array the same way\n",
    "as above, by calling the array() function."
   ]
  },
  {
   "cell_type": "code",
   "execution_count": 2,
   "id": "88f9da05",
   "metadata": {},
   "outputs": [
    {
     "name": "stdout",
     "output_type": "stream",
     "text": [
      "[[11 22]\n",
      " [33 44]\n",
      " [55 66]]\n",
      "<class 'numpy.ndarray'>\n"
     ]
    }
   ],
   "source": [
    "# create two-dimensional array\n",
    "from numpy import array\n",
    "# list of data\n",
    "data = [[11, 22],\n",
    "[33, 44],\n",
    "[55, 66]]\n",
    "# array of data\n",
    "data = array(data)\n",
    "print(data)\n",
    "print(type(data))"
   ]
  },
  {
   "cell_type": "markdown",
   "id": "385b2a75",
   "metadata": {},
   "source": [
    "# 2. Array Indexing\n",
    "Once your data is represented using a NumPy array, you can access it using indexing."
   ]
  },
  {
   "cell_type": "markdown",
   "id": "461d6669",
   "metadata": {},
   "source": [
    "## 2.1 One-Dimensional Indexing\n",
    "Generally, indexing works just like you would expect from your experience with other program-\n",
    "ming languages, like Java, C#, and C++. For example, you can access elements using the\n",
    "bracket operator [] specifying the zero-oﬀset index for the value to retrieve."
   ]
  },
  {
   "cell_type": "code",
   "execution_count": 3,
   "id": "d8e87289",
   "metadata": {},
   "outputs": [
    {
     "name": "stdout",
     "output_type": "stream",
     "text": [
      "11\n",
      "55\n"
     ]
    }
   ],
   "source": [
    "# index a one-dimensional array\n",
    "from numpy import array\n",
    "# define array\n",
    "data = array([11, 22, 33, 44, 55])\n",
    "# index data\n",
    "print(data[0])\n",
    "print(data[4])"
   ]
  },
  {
   "cell_type": "markdown",
   "id": "835d9b8a",
   "metadata": {},
   "source": [
    "Specifying integers too large for the bound of the array will cause an error."
   ]
  },
  {
   "cell_type": "code",
   "execution_count": 4,
   "id": "08acfedd",
   "metadata": {},
   "outputs": [
    {
     "ename": "IndexError",
     "evalue": "index 5 is out of bounds for axis 0 with size 5",
     "output_type": "error",
     "traceback": [
      "\u001b[31m---------------------------------------------------------------------------\u001b[39m",
      "\u001b[31mIndexError\u001b[39m                                Traceback (most recent call last)",
      "\u001b[36mCell\u001b[39m\u001b[36m \u001b[39m\u001b[32mIn[4]\u001b[39m\u001b[32m, line 6\u001b[39m\n\u001b[32m      4\u001b[39m data = array([\u001b[32m11\u001b[39m, \u001b[32m22\u001b[39m, \u001b[32m33\u001b[39m, \u001b[32m44\u001b[39m, \u001b[32m55\u001b[39m])\n\u001b[32m      5\u001b[39m \u001b[38;5;66;03m# index data\u001b[39;00m\n\u001b[32m----> \u001b[39m\u001b[32m6\u001b[39m \u001b[38;5;28mprint\u001b[39m(\u001b[43mdata\u001b[49m\u001b[43m[\u001b[49m\u001b[32;43m5\u001b[39;49m\u001b[43m]\u001b[49m)\n",
      "\u001b[31mIndexError\u001b[39m: index 5 is out of bounds for axis 0 with size 5"
     ]
    }
   ],
   "source": [
    "# index array out of bounds\n",
    "from numpy import array\n",
    "# define array\n",
    "data = array([11, 22, 33, 44, 55])\n",
    "# index data\n",
    "print(data[5])"
   ]
  },
  {
   "cell_type": "markdown",
   "id": "e021f9d7",
   "metadata": {},
   "source": [
    "One key diﬀerence is that you can use negative indexes to retrieve values oﬀset from the end\n",
    "of the array. For example, the index -1 refers to the last item in the array. The index -2 returns\n",
    "the second last item all the way back to -5 for the first item in the current example."
   ]
  },
  {
   "cell_type": "code",
   "execution_count": 5,
   "id": "ce546557",
   "metadata": {},
   "outputs": [
    {
     "name": "stdout",
     "output_type": "stream",
     "text": [
      "55\n",
      "11\n"
     ]
    }
   ],
   "source": [
    "# negative array indexing\n",
    "from numpy import array\n",
    "# define array\n",
    "data = array([11, 22, 33, 44, 55])\n",
    "# index data\n",
    "print(data[-1])\n",
    "print(data[-5])"
   ]
  },
  {
   "cell_type": "markdown",
   "id": "a87e97c5",
   "metadata": {},
   "source": [
    "## 2.2 Two-Dimensional Indexing\n",
    "Indexing two-dimensional data is similar to indexing one-dimensional data, except that a comma\n",
    "is used to separate the index for each dimension."
   ]
  },
  {
   "cell_type": "code",
   "execution_count": 6,
   "id": "bb0adb50",
   "metadata": {},
   "outputs": [
    {
     "name": "stdout",
     "output_type": "stream",
     "text": [
      "11\n"
     ]
    }
   ],
   "source": [
    "# index two-dimensional array\n",
    "from numpy import array\n",
    "# define array\n",
    "data = array([\n",
    "[11, 22],\n",
    "[33, 44],\n",
    "[55, 66]])\n",
    "# index data\n",
    "print(data[0,0])"
   ]
  },
  {
   "cell_type": "markdown",
   "id": "1dcd8197",
   "metadata": {},
   "source": [
    "If we are interested in all items in the first row, we could leave the second dimension index\n",
    "empty, for example:"
   ]
  },
  {
   "cell_type": "code",
   "execution_count": 7,
   "id": "99f0e7e3",
   "metadata": {},
   "outputs": [
    {
     "name": "stdout",
     "output_type": "stream",
     "text": [
      "[11 22]\n"
     ]
    }
   ],
   "source": [
    "# index row of two-dimensional array\n",
    "from numpy import array\n",
    "# define array\n",
    "data = array([\n",
    "[11, 22],\n",
    "[33, 44],\n",
    "[55, 66]])\n",
    "# index data\n",
    "print(data[0,])"
   ]
  },
  {
   "cell_type": "markdown",
   "id": "406251d1",
   "metadata": {},
   "source": [
    "# 3. Array Slicing\n",
    "So far, so good; creating and indexing arrays looks familiar. Now we come to array slicing, and\n",
    "this is one feature that causes problems for beginners to Python and NumPy arrays. Structures\n",
    "like lists and NumPy arrays can be sliced. This means that a subsequence of the structure\n",
    "can be indexed and retrieved. This is most useful in machine learning when specifying input\n",
    "variables and output variables, or splitting training rows from testing rows. Slicing is specified\n",
    "using the colon operator : with a from and to index before and after the column respectively.\n",
    "The slice extends from the from index and ends one item before the to index."
   ]
  },
  {
   "cell_type": "markdown",
   "id": "d087ee4b",
   "metadata": {},
   "source": [
    "## 3.1 One-Dimensional Slicing\n",
    "You can access all data in an array dimension by specifying the slice ‘:’ with no indexes."
   ]
  },
  {
   "cell_type": "code",
   "execution_count": 8,
   "id": "c1852f96",
   "metadata": {},
   "outputs": [
    {
     "name": "stdout",
     "output_type": "stream",
     "text": [
      "[11 22 33 44 55]\n"
     ]
    }
   ],
   "source": [
    "# slice a one-dimensional array\n",
    "from numpy import array\n",
    "# define array\n",
    "data = array([11, 22, 33, 44, 55])\n",
    "print(data[:])"
   ]
  },
  {
   "cell_type": "markdown",
   "id": "f7ff640a",
   "metadata": {},
   "source": [
    "The first item of the array can be sliced by specifying a slice that starts at index 0 and ends\n",
    "at index 1 (one item before the to index)."
   ]
  },
  {
   "cell_type": "code",
   "execution_count": 9,
   "id": "60434a41",
   "metadata": {},
   "outputs": [
    {
     "name": "stdout",
     "output_type": "stream",
     "text": [
      "[11]\n"
     ]
    }
   ],
   "source": [
    "# slice a subset of a one-dimensional array\n",
    "from numpy import array\n",
    "# define array\n",
    "data = array([11, 22, 33, 44, 55])\n",
    "print(data[0:1])"
   ]
  },
  {
   "cell_type": "markdown",
   "id": "2bbec930",
   "metadata": {},
   "source": [
    "We can also use negative indexes in slices. For example, we can slice the last two items in\n",
    "the list by starting the slice at -2 (the second last item) and not specifying a to index; that\n",
    "takes the slice to the end of the dimension."
   ]
  },
  {
   "cell_type": "code",
   "execution_count": 10,
   "id": "28414170",
   "metadata": {},
   "outputs": [
    {
     "name": "stdout",
     "output_type": "stream",
     "text": [
      "[44 55]\n"
     ]
    }
   ],
   "source": [
    "# negative slicing of a one-dimensional array\n",
    "from numpy import array\n",
    "# define array\n",
    "data = array([11, 22, 33, 44, 55])\n",
    "print(data[-2:])"
   ]
  },
  {
   "cell_type": "markdown",
   "id": "596c74b9",
   "metadata": {},
   "source": [
    "## 3.2 Two-Dimensional Slicing\n",
    "Let’s look at the two examples of two-dimensional slicing you are most likely to use in machine\n",
    "learning."
   ]
  },
  {
   "cell_type": "markdown",
   "id": "e28b1c1c",
   "metadata": {},
   "source": [
    "### Split Input and Output Features\n",
    "It is common to split your loaded data into input variables (X) and the output variable (y). We\n",
    "can do this by slicing all rows and all columns up to, but before the last column, then separately\n",
    "indexing the last column. For the input features, we can select all rows and all columns except\n",
    "the last one by specifying : for in the rows index, and :-1 in the columns index.\n",
    "\n",
    "`X = [:, :-1]`\n",
    "\n",
    "For the output column, we can select all rows again using : and index just the last column\n",
    "by specifying the -1 index.\n",
    "\n",
    "`y = [:, -1]`"
   ]
  },
  {
   "cell_type": "markdown",
   "id": "2d7772b9",
   "metadata": {},
   "source": [
    "Putting all of this together, we can separate a 3-column 2D dataset into input and output\n",
    "data as follows:"
   ]
  },
  {
   "cell_type": "code",
   "execution_count": 11,
   "id": "112397bc",
   "metadata": {},
   "outputs": [
    {
     "name": "stdout",
     "output_type": "stream",
     "text": [
      "[[11 22]\n",
      " [44 55]\n",
      " [77 88]]\n",
      "[33 66 99]\n"
     ]
    }
   ],
   "source": [
    "# split input and output data\n",
    "from numpy import array\n",
    "# define array\n",
    "data = array([\n",
    "[11, 22, 33],\n",
    "[44, 55, 66],\n",
    "[77, 88, 99]])\n",
    "# separate data\n",
    "X, y = data[:, :-1], data[:, -1]\n",
    "print(X)\n",
    "print(y)"
   ]
  },
  {
   "cell_type": "markdown",
   "id": "534d52bb",
   "metadata": {},
   "source": [
    "### Split Train and Test Rows\n",
    "\n",
    "It is common to split a loaded dataset into separate train and test sets. This is a splitting of\n",
    "rows where some portion will be used to train the model and the remaining portion will be used\n",
    "to estimate the skill of the trained model. This would involve slicing all columns by specifying :\n",
    "in the second dimension index. The training dataset would be all rows from the beginning to\n",
    "the split point.\n",
    "\n",
    "`train = data[:split, :]`\n",
    "\n",
    "The test dataset would be all rows starting from the split point to the end of the dimension.\n",
    "\n",
    "`test = data[split:, :]`\n",
    "\n",
    "Putting all of this together, we can split the dataset at the contrived split point of 2."
   ]
  },
  {
   "cell_type": "code",
   "execution_count": 12,
   "id": "deec1e6b",
   "metadata": {},
   "outputs": [
    {
     "name": "stdout",
     "output_type": "stream",
     "text": [
      "[[11 22 33]\n",
      " [44 55 66]]\n",
      "[[77 88 99]]\n"
     ]
    }
   ],
   "source": [
    "# split train and test data\n",
    "from numpy import array\n",
    "# define array\n",
    "data = array([\n",
    "[11, 22, 33],\n",
    "[44, 55, 66],\n",
    "[77, 88, 99]])\n",
    "# separate data\n",
    "split = 2\n",
    "train,test = data[:split,:],data[split:,:]\n",
    "print(train)\n",
    "print(test)"
   ]
  },
  {
   "cell_type": "markdown",
   "id": "750d07ea",
   "metadata": {},
   "source": [
    "# 4. Array Reshaping\n",
    "After slicing your data, you may need to reshape it. For example, some libraries, such as\n",
    "scikit-learn, may require that a one-dimensional array of output variables (y) be shaped as a\n",
    "two-dimensional array with one column and outcomes for each column. Some algorithms, like\n",
    "the Long Short-Term Memory recurrent neural network in Keras, require input to be specified\n",
    "as a three-dimensional array comprised of samples, timesteps, and features. It is important to\n",
    "know how to reshape your NumPy arrays so that your data meets the expectation of specific\n",
    "Python libraries. We will look at these two examples."
   ]
  },
  {
   "cell_type": "markdown",
   "id": "a1621ec7",
   "metadata": {},
   "source": [
    "## 4.1 Data Shape\n",
    "NumPy arrays have a shape attribute that returns a tuple of the length of each dimension of\n",
    "the array. For example:"
   ]
  },
  {
   "cell_type": "code",
   "execution_count": 13,
   "id": "db2cc6c1",
   "metadata": {},
   "outputs": [
    {
     "name": "stdout",
     "output_type": "stream",
     "text": [
      "(5,)\n"
     ]
    }
   ],
   "source": [
    "# shape of one-dimensional array\n",
    "from numpy import array\n",
    "# define array\n",
    "data = array([11, 22, 33, 44, 55])\n",
    "print(data.shape)"
   ]
  },
  {
   "cell_type": "markdown",
   "id": "980b7b92",
   "metadata": {},
   "source": [
    "A tuple with two lengths is returned for a two-dimensional array."
   ]
  },
  {
   "cell_type": "code",
   "execution_count": 14,
   "id": "fe8d093c",
   "metadata": {},
   "outputs": [
    {
     "name": "stdout",
     "output_type": "stream",
     "text": [
      "(3, 2)\n"
     ]
    }
   ],
   "source": [
    "# shape of a two-dimensional array\n",
    "from numpy import array\n",
    "# list of data\n",
    "data = [[11, 22],\n",
    "[33, 44],\n",
    "[55, 66]]\n",
    "# array of data\n",
    "data = array(data)\n",
    "print(data.shape)"
   ]
  },
  {
   "cell_type": "markdown",
   "id": "a0d83fbc",
   "metadata": {},
   "source": [
    "You can use the size of your array dimensions in the shape dimension, such as specifying\n",
    "parameters. The elements of the tuple can be accessed just like an array, with the 0th index for\n",
    "the number of rows and the 1st index for the number of columns. For example:"
   ]
  },
  {
   "cell_type": "code",
   "execution_count": 15,
   "id": "2f5826d0",
   "metadata": {},
   "outputs": [
    {
     "name": "stdout",
     "output_type": "stream",
     "text": [
      "Rows: 3\n",
      "Cols: 2\n"
     ]
    }
   ],
   "source": [
    "# row and column shape of two-dimensional array\n",
    "from numpy import array\n",
    "# list of data\n",
    "data = [[11, 22],\n",
    "        [33, 44],\n",
    "[55, 66]]\n",
    "# array of data\n",
    "data = array(data)\n",
    "print('Rows: %d' % data.shape[0])\n",
    "print('Cols: %d' % data.shape[1])"
   ]
  },
  {
   "cell_type": "markdown",
   "id": "2595bfa8",
   "metadata": {},
   "source": [
    "## 4.2 Reshape 1D to 2D Array\n",
    "\n",
    "It is common to need to reshape a one-dimensional array into a two-dimensional array with\n",
    "one column and multiple arrays. NumPy provides the reshape() function on the NumPy array\n",
    "object that can be used to reshape the data. The reshape() function takes a single argument\n",
    "that specifies the new shape of the array. In the case of reshaping a one-dimensional array into\n",
    "a two-dimensional array with one column, the tuple would be the shape of the array as the first\n",
    "dimension (data.shape[0]) and 1 for the second dimension.\n",
    "\n",
    "`data = data.reshape((data.shape[0], 1))`\n",
    "\n",
    "Putting this all together, we get the following worked example."
   ]
  },
  {
   "cell_type": "code",
   "execution_count": 16,
   "id": "b42571fb",
   "metadata": {},
   "outputs": [
    {
     "name": "stdout",
     "output_type": "stream",
     "text": [
      "(5,)\n",
      "(5, 1)\n"
     ]
    }
   ],
   "source": [
    "# reshape 1D array to 2D\n",
    "from numpy import array\n",
    "# define array\n",
    "data = array([11, 22, 33, 44, 55])\n",
    "print(data.shape)\n",
    "# reshape\n",
    "data = data.reshape((data.shape[0], 1))\n",
    "print(data.shape)"
   ]
  },
  {
   "cell_type": "markdown",
   "id": "06bf361f",
   "metadata": {},
   "source": [
    "## 4.3 Reshape 2D to 3D Array\n",
    "It is common to need to reshape two-dimensional data where each row represents a sequence\n",
    "into a three-dimensional array for algorithms that expect multiple samples of one or more time\n",
    "steps and one or more features. A good example is the LSTM recurrent neural network model\n",
    "in the Keras deep learning library. The reshape function can be used directly, specifying the\n",
    "new dimensionality. This is clear with an example where each sequence has multiple time steps\n",
    "with one observation (feature) at each time step. We can use the sizes in the shape attribute on\n",
    "the array to specify the number of samples (rows) and columns (time steps) and fix the number\n",
    "of features at 1.\n",
    "\n",
    "`data.reshape((data.shape[0], data.shape[1], 1))`\n",
    "\n",
    "Putting this all together, we get the following worked example."
   ]
  },
  {
   "cell_type": "code",
   "execution_count": 18,
   "id": "8c695212",
   "metadata": {},
   "outputs": [
    {
     "name": "stdout",
     "output_type": "stream",
     "text": [
      "(3, 2)\n",
      "(3, 2, 1)\n"
     ]
    }
   ],
   "source": [
    "# reshape 2D array to 3D\n",
    "from numpy import array\n",
    "# list of data\n",
    "data = [[11, 22],\n",
    "[33, 44],\n",
    "[55, 66]]\n",
    "# array of data\n",
    "data = array(data)\n",
    "print(data.shape)\n",
    "# reshape\n",
    "data = data.reshape((data.shape[0], data.shape[1], 1))\n",
    "print(data.shape)"
   ]
  }
 ],
 "metadata": {
  "kernelspec": {
   "display_name": "llm",
   "language": "python",
   "name": "python3"
  },
  "language_info": {
   "codemirror_mode": {
    "name": "ipython",
    "version": 3
   },
   "file_extension": ".py",
   "mimetype": "text/x-python",
   "name": "python",
   "nbconvert_exporter": "python",
   "pygments_lexer": "ipython3",
   "version": "3.13.3"
  }
 },
 "nbformat": 4,
 "nbformat_minor": 5
}
