{
 "cells": [
  {
   "cell_type": "markdown",
   "id": "0ec15ce1",
   "metadata": {},
   "source": [
    "# 1. Vectors"
   ]
  },
  {
   "cell_type": "markdown",
   "id": "966daa91",
   "metadata": {},
   "source": [
    "## 1.1 What is a Vector\n",
    "A vector is a tuple of one or more values called scalars.\n",
    "\n",
    "> Vectors are built from components, which are ordinary numbers. You can think of a vector as a list of numbers, and vector algebra as operations performed on the numbers in the list.\n",
    "\n",
    "Vectors are often represented using a lowercase character such as v; for example:\n",
    "\n",
    "`v= (v1,v2,v3)`\n",
    "\n",
    "Where v1, v2, v3 are scalar values, often real values.\n",
    "\n",
    "It is common to represent the target variable as a vector with the lowercase ywhen describing\n",
    "the training of a machine learning algorithm. It is common to introduce vectors using a geometric\n",
    "analogy, where a vector represents a point or coordinate in an n-dimensional space, where n\n",
    "is the number of dimensions, such as 2. The vector can also be thought of as a line from the\n",
    "origin of the vector space with a direction and a magnitude.\n",
    "\n",
    "These analogies are good as a starting point, but should not be held too tightly as we often\n",
    "consider very high dimensional vectors in machine learning. I find the vector-as-coordinate the\n",
    "most compelling analogy in machine learning. Now that we know what a vector is, let’s look at\n",
    "how to define a vector in Python."
   ]
  },
  {
   "cell_type": "markdown",
   "id": "b3700595",
   "metadata": {},
   "source": [
    "## 1.2 Defining a Vector\n",
    "We can represent a vector in Python as a NumPy array. A NumPy array can be created from\n",
    "a list of numbers. For example, below we define a vector with the length of 3 and the integer\n",
    "values 1, 2 and 3."
   ]
  },
  {
   "cell_type": "code",
   "execution_count": 1,
   "id": "476cf77d",
   "metadata": {},
   "outputs": [
    {
     "name": "stdout",
     "output_type": "stream",
     "text": [
      "[1 2 3]\n"
     ]
    }
   ],
   "source": [
    "# create a vector\n",
    "from numpy import array\n",
    "# define vector\n",
    "v = array([1, 2, 3])\n",
    "print(v)"
   ]
  },
  {
   "cell_type": "markdown",
   "id": "3c2c5bc0",
   "metadata": {},
   "source": [
    "## 1.3 Vector Arithmetic\n",
    "In this section will demonstrate simple vector-vector arithmetic, where all operations are\n",
    "performed element-wise between two vectors of equal length to result in a new vector with the\n",
    "same length."
   ]
  },
  {
   "cell_type": "markdown",
   "id": "5bed2041",
   "metadata": {},
   "source": [
    "### 1.3.1 Vector addition\n",
    "Two vectors of equal length can be added together to create a new third vector.\n",
    "\n",
    "`c = a + b`\n",
    "\n",
    "The new vector has the same length as the other two vectors. Each element of the new vector is calculated as the addition of the elements of the other vectors at the same index; for example:\n",
    "\n",
    "`c = (a1 + b1,a2 + b2,a3 + b3)`\n",
    "\n",
    "We can add vectors directly in Python by adding NumPy arrays."
   ]
  },
  {
   "cell_type": "code",
   "execution_count": 2,
   "id": "b00b4e6a",
   "metadata": {},
   "outputs": [
    {
     "name": "stdout",
     "output_type": "stream",
     "text": [
      "[1 2 3]\n",
      "[1 2 3]\n",
      "[2 4 6]\n"
     ]
    }
   ],
   "source": [
    "# vector addition\n",
    "from numpy import array\n",
    "# define first vector\n",
    "a = array([1, 2, 3])\n",
    "print(a)\n",
    "# define second vector\n",
    "b = array([1, 2, 3])\n",
    "print(b)\n",
    "# add vectors\n",
    "c = a + b\n",
    "print(c)"
   ]
  },
  {
   "cell_type": "markdown",
   "id": "e6c63752",
   "metadata": {},
   "source": [
    "### 1.3.2 Vector Subtraction\n",
    "One vector can be subtracted from another vector of equal length to create a new third vector.\n",
    "\n",
    "`c = a − b`\n",
    "\n",
    "As with addition, the new vector has the same length as the parent vectors and each element of the new vector is calculated as the subtraction of the elements at the same indices.\n",
    "\n",
    "`c = (a1 − b1,a2 − b2,a3 − b3)`\n",
    "\n",
    "The NumPy arrays can be directly subtracted in Python."
   ]
  },
  {
   "cell_type": "code",
   "execution_count": 3,
   "id": "ee65c4bc",
   "metadata": {},
   "outputs": [
    {
     "name": "stdout",
     "output_type": "stream",
     "text": [
      "[1 2 3]\n",
      "[0.5 0.5 0.5]\n",
      "[0.5 1.5 2.5]\n"
     ]
    }
   ],
   "source": [
    "# vector subtraction\n",
    "from numpy import array\n",
    "# define first vector\n",
    "a = array([1, 2, 3])\n",
    "print(a)\n",
    "# define second vector\n",
    "b = array([0.5, 0.5, 0.5])\n",
    "print(b)\n",
    "# subtract vectors\n",
    "c = a - b\n",
    "print(c)"
   ]
  },
  {
   "cell_type": "markdown",
   "id": "aa5b4076",
   "metadata": {},
   "source": [
    "### 1.3.3 Vector Multiplication\n",
    "Two vectors of equal length can be multiplied together.\n",
    "\n",
    "`c = a × b`\n",
    "\n",
    "As with addition and subtraction, this operation is performed element-wise to result in a new vector of the same length.\n",
    "\n",
    "`c = (a1 × b1,a2 × b2,a3 × b3)`\n",
    "\n",
    "We can perform this operation directly in NumPy."
   ]
  },
  {
   "cell_type": "code",
   "execution_count": 4,
   "id": "0370c26a",
   "metadata": {},
   "outputs": [
    {
     "name": "stdout",
     "output_type": "stream",
     "text": [
      "[1 2 3]\n",
      "[1 2 3]\n",
      "[1 4 9]\n"
     ]
    }
   ],
   "source": [
    "# vector multiplication\n",
    "from numpy import array\n",
    "# define first vector\n",
    "a = array([1, 2, 3])\n",
    "print(a)\n",
    "# define second vector\n",
    "b = array([1, 2, 3])\n",
    "print(b)\n",
    "# multiply vectors\n",
    "c = a * b\n",
    "print(c)"
   ]
  },
  {
   "cell_type": "markdown",
   "id": "f8c67151",
   "metadata": {},
   "source": [
    "### 1.3.4 Vector Division\n",
    "Two vectors of equal length can be divided.\n",
    "\n",
    "`c = a / b`\n",
    "\n",
    "As with other arithmetic operations, this operation is performed element-wise to result in a new vector of the same length.\n",
    "\n",
    "`c = (a1 / b1, a2 / b2, a3 / b3)`\n",
    "\n",
    "We can perform this operation directly in NumPy."
   ]
  },
  {
   "cell_type": "code",
   "execution_count": 5,
   "id": "8f1514a0",
   "metadata": {},
   "outputs": [
    {
     "name": "stdout",
     "output_type": "stream",
     "text": [
      "[1 2 3]\n",
      "[1 2 3]\n",
      "[1. 1. 1.]\n"
     ]
    }
   ],
   "source": [
    "# vector division\n",
    "from numpy import array\n",
    "# define first vector\n",
    "a = array([1, 2, 3])\n",
    "print(a)\n",
    "# define second vector\n",
    "b = array([1, 2, 3])\n",
    "print(b)\n",
    "# divide vectors\n",
    "c = a / b\n",
    "print(c)"
   ]
  },
  {
   "cell_type": "markdown",
   "id": "16dae45e",
   "metadata": {},
   "source": [
    "## 1.4 Vector Dot Product\n",
    "We can calculate the sum of the multiplied elements of two vectors of the same length to give a\n",
    "scalar. This is called the dot product, named because of the dot operator used when describing\n",
    "the operation.\n",
    "\n",
    "> The dot product is the key tool for calculating vector projections, vector decompositions, and determining orthogonality. The name dot product comes from the symbol used to denote it.\n",
    ">\n",
    "> --- Page 110, *No Bullshit Guide To Linear Algebra*, 2017.\n",
    "\n",
    "`c = a · b`\n",
    "\n",
    "The operation can be used in machine learning to calculate the weighted sum of a vector.\n",
    "The dot product is calculated as follows:\n",
    "\n",
    "`c = (a1 × b1 + a2 × b2 + a3 × b3)`\n",
    "\n",
    "We can calculate the dot product between two vectors in Python using the dot() function on a NumPy array."
   ]
  },
  {
   "cell_type": "code",
   "execution_count": 6,
   "id": "f86dc628",
   "metadata": {},
   "outputs": [
    {
     "name": "stdout",
     "output_type": "stream",
     "text": [
      "[1 2 3]\n",
      "[1 2 3]\n",
      "14\n"
     ]
    }
   ],
   "source": [
    "# vector dot product\n",
    "from numpy import array\n",
    "# define first vector\n",
    "a = array([1, 2, 3])\n",
    "print(a)\n",
    "# define second vector\n",
    "b = array([1, 2, 3])\n",
    "print(b)\n",
    "# multiply vectors\n",
    "c = a.dot(b)\n",
    "print(c)"
   ]
  },
  {
   "cell_type": "markdown",
   "id": "1e054aa1",
   "metadata": {},
   "source": [
    "## 1.5 Vector-Scalar Multiplication\n",
    "A vector can be multiplied by a scalar, in eﬀect scaling the magnitude of the vector. To keep\n",
    "notation simple, we will use lowercase s to represent the scalar value.\n",
    "\n",
    "`c = s × v`\n",
    "\n",
    "The multiplication is performed on each element of the vector to result in a new scaled vector of the same length.\n",
    "\n",
    "`c = (s × v1,s × v2,s × v3)`\n",
    "\n",
    "We can perform this operation directly with the NumPy array."
   ]
  },
  {
   "cell_type": "code",
   "execution_count": 7,
   "id": "686746ff",
   "metadata": {},
   "outputs": [
    {
     "name": "stdout",
     "output_type": "stream",
     "text": [
      "[1 2 3]\n",
      "0.5\n",
      "[0.5 1.  1.5]\n"
     ]
    }
   ],
   "source": [
    "# vector-scalar multiplication\n",
    "from numpy import array\n",
    "# define vector\n",
    "a = array([1, 2, 3])\n",
    "print(a)\n",
    "# define scalar\n",
    "s = 0.5\n",
    "print(s)\n",
    "# multiplication\n",
    "c = s * a\n",
    "print(c)"
   ]
  }
 ],
 "metadata": {
  "kernelspec": {
   "display_name": "llm",
   "language": "python",
   "name": "python3"
  },
  "language_info": {
   "codemirror_mode": {
    "name": "ipython",
    "version": 3
   },
   "file_extension": ".py",
   "mimetype": "text/x-python",
   "name": "python",
   "nbconvert_exporter": "python",
   "pygments_lexer": "ipython3",
   "version": "3.13.3"
  }
 },
 "nbformat": 4,
 "nbformat_minor": 5
}
