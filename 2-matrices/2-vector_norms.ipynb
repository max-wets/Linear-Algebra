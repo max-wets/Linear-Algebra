{
 "cells": [
  {
   "cell_type": "markdown",
   "id": "e009c8ac",
   "metadata": {},
   "source": [
    "# 2. Vector Norms\n",
    "Calculating the length or magnitude of vectors is often required either directly as a regularization method in machine learning, or as part of broader vector or matrix operations. In this tutorial, you will discover the diﬀerent ways to calculate vector lengths or magnitudes, called the vector norm. After completing this tutorial, you will know:\n",
    "\n",
    "- The L<sup>1</sup> norm that is calculated as the sum of the absolute values of the vector.\n",
    "- The L<sup>2</sup> norm that is calculated as the square root of the sum of the squared vector values.\n",
    "- The max norm that is calculated as the maximum vector values."
   ]
  },
  {
   "cell_type": "markdown",
   "id": "f64528eb",
   "metadata": {},
   "source": [
    "## 2.1 Vector Norm\n",
    "Calculating the size or length of a vector is often required either directly or as part of a broader vector or vector-matrix operation. The length of the vector is referred to as the vector norm or the vector’s magnitude.\n",
    "\n",
    "> The length of a vector is a nonnegative number that describes the extent of the vector in space, and is sometimes referred to as the vector’s magnitude or the norm.\n",
    ">\n",
    "> --- Page 112, *No Bullshit Guide To Linear Algebra*, 2017.\n",
    "\n",
    "The length of the vector is always a positive number, except for a vector of all zero values.\n",
    "It is calculated using some measure that summarizes the distance of the vector from the origin\n",
    "of the vector space. For example, the origin of a vector space for a vector with 3 elements is\n",
    "(0,0,0). Notations are used to represent the vector norm in broader calculations and the type\n",
    "of vector norm calculation almost always has its own unique notation. We will take a look at a\n",
    "few common vector norm calculations used in machine learning."
   ]
  },
  {
   "cell_type": "markdown",
   "id": "304600fe",
   "metadata": {},
   "source": [
    "## 2.2 Vector *L*<sup>1</sup>\n",
    "The length of a vector can be calculated using the *L*<sup>1</sup> norm, where the 1 is a superscript of the L. The notation for the *L*<sup>1</sup> norm of a vector is ||*v*||<sub>1</sub>, where 1 is a subscript. As such, this length is sometimes called the taxicab norm or the Manhattan norm.\n",
    "\n",
    "*L*<sup>1</sup>(*v*) = ||*v*||<sub>1</sub>\n",
    "\n",
    "The *L*<sup>1</sup> norm is calculated as the sum of the absolute vector values, where the absolute value\n",
    "of a scalar uses the notation |*a*<sub>1</sub>|. In eﬀect, the norm is a calculation of the Manhattan distance\n",
    "from the origin of the vector space.\n",
    "\n",
    "||*v*||<sub>1</sub> = |*a*<sub>1</sub>| + |*a*<sub>2</sub>| + |*a*<sub>3</sub>|\n",
    "\n",
    "> In several machine learning applications, it is important to discriminate between elements that are exactly zero and elements that are small but nonzero. In these cases, we turn to a function that grows at the same rate in all locations, but retains mathematical simplicity: the *L*<sup>1</sup> norm.\n",
    ">\n",
    "> --- Pages 39-40, *Deep Learning*, 2016.\n",
    "\n",
    "The *L*<sup>1</sup> norm of a vector can be calculated in NumPy using the norm() function with a\n",
    "parameter to specify the norm order, in this case 1."
   ]
  },
  {
   "cell_type": "code",
   "execution_count": 2,
   "id": "92cb649e",
   "metadata": {},
   "outputs": [
    {
     "name": "stdout",
     "output_type": "stream",
     "text": [
      "[1 2 3]\n",
      "6.0\n"
     ]
    }
   ],
   "source": [
    "# vector L1 norm\n",
    "from numpy import array\n",
    "from numpy.linalg import norm\n",
    "# define vector\n",
    "a = array([1, 2, 3])\n",
    "print(a)\n",
    "# calculate norm\n",
    "l1 = norm(a, 1)\n",
    "print(l1)"
   ]
  },
  {
   "cell_type": "markdown",
   "id": "de85782e",
   "metadata": {},
   "source": [
    "The *L*<sup>1</sup> norm is often used when fitting machine learning algorithms as a regularization\n",
    "method, e.g. a method to keep the coeﬃcients of the model small, and in turn, the model less\n",
    "complex."
   ]
  },
  {
   "cell_type": "markdown",
   "id": "f8ab4e73",
   "metadata": {},
   "source": [
    "## 2.3 Vector *L*<sup>2</sup>\n",
    "The length of a vector can be calculated using the *L*<sup>2</sup> norm, where the 2 is a superscript of the\n",
    "*L*. The notation for the $L^2$ norm of a vector is ||*v*||<sub>2</sub> where 2 is a subscript.\n",
    "\n",
    "*L*<sup>2</sup>(*v*) = ||*v*||<sub>2</sub>\n",
    "\n",
    "The *L*<sup>2</sup> norm calculates the distance of the vector coordinate from the origin of the vector\n",
    "space. As such, it is also known as the Euclidean norm as it is calculated as the Euclidean\n",
    "distance from the origin. The result is a positive distance value. The *L*<sup>2</sup> norm is calculated as\n",
    "the square root of the sum of the squared vector values.\n",
    "\n",
    "$||v||_2 = \\sqrt{a_1^2 + a_2^2 + a_3^3}$\n",
    "\n",
    "The $L^2$ norm of a vector can be calculated in NumPy using the `norm()` function with default\n",
    "parameters."
   ]
  },
  {
   "cell_type": "code",
   "execution_count": 3,
   "id": "c52ba414",
   "metadata": {},
   "outputs": [
    {
     "name": "stdout",
     "output_type": "stream",
     "text": [
      "[1 2 3]\n",
      "3.7416573867739413\n"
     ]
    }
   ],
   "source": [
    "# vector L2 norm\n",
    "from numpy import array\n",
    "from numpy.linalg import norm\n",
    "# define vector\n",
    "a = array([1, 2, 3])\n",
    "print(a)\n",
    "# calculate norm\n",
    "l2 = norm(a)\n",
    "print(l2)"
   ]
  },
  {
   "cell_type": "markdown",
   "id": "f46b8fe0",
   "metadata": {},
   "source": [
    "Like the $L^1$ norm, the $L^2$ norm is often used when fitting machine learning algorithms as a\n",
    "regularization method, e.g. a method to keep the coeﬃcients of the model small and, in turn,\n",
    "the model less complex. By far, the $L^2$ norm is more commonly used than other vector norms\n",
    "in machine learning."
   ]
  },
  {
   "cell_type": "markdown",
   "id": "a5209d12",
   "metadata": {},
   "source": [
    "## 2.4 Vector Max Norm\n",
    "The length of a vector can be calculated using the maximum norm, also called max norm. Max norm of a vector is referred to as $L^{inf}$ where inf is a superscript and can be represented with the infinity symbol. The notation for max norm is $||v||_{inf}$, where inf is a subscript.\n",
    "\n",
    "$L^{inf} (v) = ||v||_{inf}$\n",
    "\n",
    "The max norm is calculated as returning the maximum value of the vector, hence the name.\n",
    "\n",
    "$||v||_{inf} = max(a_1,a_2,a_3)$\n",
    "\n",
    "The max norm of a vector can be calculated in NumPy using the `norm()` function with the order parameter set to `inf`."
   ]
  },
  {
   "cell_type": "code",
   "execution_count": 4,
   "id": "e2687a7e",
   "metadata": {},
   "outputs": [
    {
     "name": "stdout",
     "output_type": "stream",
     "text": [
      "[1 2 3]\n",
      "3.0\n"
     ]
    }
   ],
   "source": [
    "# vector max norm\n",
    "from math import inf\n",
    "from numpy import array\n",
    "from numpy.linalg import norm\n",
    "# define vector\n",
    "a = array([1, 2, 3])\n",
    "print(a)\n",
    "# calculate norm\n",
    "maxnorm = norm(a, inf)\n",
    "print(maxnorm)"
   ]
  },
  {
   "cell_type": "markdown",
   "id": "c11f2bbc",
   "metadata": {},
   "source": [
    "Max norm is also used as a regularization in machine learning, such as on neural network\n",
    "weights, called max norm regularization."
   ]
  }
 ],
 "metadata": {
  "kernelspec": {
   "display_name": "llm",
   "language": "python",
   "name": "python3"
  },
  "language_info": {
   "codemirror_mode": {
    "name": "ipython",
    "version": 3
   },
   "file_extension": ".py",
   "mimetype": "text/x-python",
   "name": "python",
   "nbconvert_exporter": "python",
   "pygments_lexer": "ipython3",
   "version": "3.13.3"
  }
 },
 "nbformat": 4,
 "nbformat_minor": 5
}
