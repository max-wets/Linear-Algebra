{
 "cells": [
  {
   "cell_type": "markdown",
   "id": "188e1cba",
   "metadata": {},
   "source": [
    "# 3. Arithmetic\n",
    "Matrices are a foundational element of linear algebra. Matrices are used throughout the field of machine learning in the description of algorithms and processes such as the input data variable (X) when training an algorithm. In this tutorial, you will discover matrices in linear algebra and how to manipulate them in Python. After completing this tutorial, you will know:\n",
    "- What a matrix is and how to define one in Python with NumPy.\n",
    "- How to perform element-wise operations such as addition, subtraction, and the Hadamard product.\n",
    "- How to multiply matrices together and the intuition behind the operation.\n",
    "\n",
    "## 3.1 What is a Matrix\n",
    "A matrix is a two-dimensional array of scalars with one or more columns and one or more rows.\n",
    "\n",
    "> A matrix is a two-dimensional array (a table) of numbers.\n",
    ">\n",
    "> — Page 115, No Bullshit Guide To Linear Algebra, 2017.\n",
    "\n",
    "The notation for a matrix is often an uppercase letter, such as A, and entries are referred to by their two-dimensional subscript of row (*i*) and column (*j*), such as $a_{i,j}$. For example, we can define a 3-row, 2-column matrix:\n",
    "\n",
    "$A = ((a_{1,1},a_{1,2}),(a_{2,1},a_{2,2}),(a_{3,1},a_{3,2}))$\n",
    "\n",
    "It is more common to see matrices defined using a horizontal notation.\n",
    "\n",
    "$A = \\begin{bmatrix}a_{1,1} & a_{1,2} & a_{1,3} \\\\ a_{2,1} & a_{2,2} & a_{2,3} \\\\ a_{3,1} & a_{3,2} & a_{3,3} \\end{bmatrix}$\n",
    "\n",
    "A likely first place you may encounter a matrix in machine learning is in model training data comprised of many rows and columns and often represented using the capital letter X. The geometric analogy used to help understand vectors and some of their operations does not hold with matrices. Further, a vector itself may be considered a matrix with one column and multiple rows. Often the dimensions of the matrix are denoted as $m$ and $n$ or $m×n$ for the number of rows and the number of columns respectively. Now that we know what a matrix is, let’s look at defining one in Python."
   ]
  },
  {
   "cell_type": "markdown",
   "id": "388f960f",
   "metadata": {},
   "source": [
    "## 3.2 Defining a Matrix\n",
    "We can represent a matrix in Python using a two-dimensional NumPy array. A NumPy array\n",
    "can be constructed given a list of lists. For example, below is a 2 row, 3 column matrix."
   ]
  },
  {
   "cell_type": "code",
   "execution_count": 1,
   "id": "95b8e702",
   "metadata": {},
   "outputs": [
    {
     "name": "stdout",
     "output_type": "stream",
     "text": [
      "[[1 2 3]\n",
      " [4 5 6]]\n"
     ]
    }
   ],
   "source": [
    "# create matrix\n",
    "from numpy import array\n",
    "A = array([[1, 2, 3], [4, 5, 6]])\n",
    "print(A)"
   ]
  },
  {
   "cell_type": "markdown",
   "id": "f6e02c57",
   "metadata": {},
   "source": [
    "## 3.3 Matrix Arithmetic\n",
    "In this section will demonstrate simple matrix-matrix arithmetic, where all operations are\n",
    "performed element-wise between two matrices of equal size to result in a new matrix with the\n",
    "same size."
   ]
  },
  {
   "cell_type": "markdown",
   "id": "59189d05",
   "metadata": {},
   "source": [
    "### 3.3.1 Matrix Addition\n",
    "Two matrices with the same dimensions can be added together to create a new third matrix.\n",
    "\n",
    "$C = A + B$\n",
    "\n",
    "The scalar elements in the resulting matrix are calculated as the addition of the elements in each of the matrices being added.\n",
    "\n",
    "$C = \\begin{bmatrix}a_{1,1} + b_{1,1} & a_{1,2} + b_{1,2} & a_{1,3} + b_{1,3} \\\\ a_{2,1} + b_{2,1} & a_{2,2} + b_{2,2} & a_{2,3} + b_{2,3} \\\\ a_{3,1} + b_{3,1} & a_{3,2} + b_{3,2} & a_{3,3} + b_{3,3} \\end{bmatrix}$\n",
    "\n",
    "We can implement this in Python using the plus operator directly on the two NumPy arrays."
   ]
  },
  {
   "cell_type": "code",
   "execution_count": 2,
   "id": "3eb88523",
   "metadata": {},
   "outputs": [
    {
     "name": "stdout",
     "output_type": "stream",
     "text": [
      "[[1 2 3]\n",
      " [4 5 6]]\n",
      "[[1 2 3]\n",
      " [4 5 6]]\n",
      "[[ 2  4  6]\n",
      " [ 8 10 12]]\n"
     ]
    }
   ],
   "source": [
    "# matrix addition\n",
    "from numpy import array\n",
    "# define first matrix\n",
    "A = array([\n",
    "[1, 2, 3],\n",
    "[4, 5, 6]])\n",
    "print(A)\n",
    "# define second matrix\n",
    "B = array([\n",
    "[1, 2, 3],\n",
    "[4, 5, 6]])\n",
    "print(B)\n",
    "# add matrices\n",
    "C = A + B\n",
    "print(C)"
   ]
  },
  {
   "cell_type": "markdown",
   "id": "dbc49dbd",
   "metadata": {},
   "source": [
    "### 3.3.2 Matrix Subtraction\n",
    "Similarly, one matrix can be subtracted from another matrix with the same dimensions.\n",
    "\n",
    "$C = A - B$\n",
    "\n",
    "The scalar elements in the resulting matrix are calculated as the subtraction of the elements\n",
    "in each of the matrices.\n",
    "\n",
    "$C = \\begin{bmatrix}a_{1,1} - b_{1,1} & a_{1,2} - b_{1,2} & a_{1,3} - b_{1,3} \\\\ a_{2,1} - b_{2,1} & a_{2,2} - b_{2,2} & a_{2,3} - b_{2,3} \\\\ a_{3,1} - b_{3,1} & a_{3,2} - b_{3,2} & a_{3,3} - b_{3,3} \\end{bmatrix}$\n",
    "\n",
    "We can implement this in Python using the minus operator directly on the two NumPy\n",
    "arrays."
   ]
  },
  {
   "cell_type": "code",
   "execution_count": 3,
   "id": "b71ab544",
   "metadata": {},
   "outputs": [
    {
     "name": "stdout",
     "output_type": "stream",
     "text": [
      "[[1 2 3]\n",
      " [4 5 6]]\n",
      "[[0.5 0.5 0.5]\n",
      " [0.5 0.5 0.5]]\n",
      "[[0.5 1.5 2.5]\n",
      " [3.5 4.5 5.5]]\n"
     ]
    }
   ],
   "source": [
    "# matrix subtraction\n",
    "from numpy import array\n",
    "# define first matrix\n",
    "A = array([\n",
    "[1, 2, 3],\n",
    "[4, 5, 6]])\n",
    "print(A)\n",
    "# define second matrix\n",
    "B = array([\n",
    "[0.5, 0.5, 0.5],\n",
    "[0.5, 0.5, 0.5]])\n",
    "print(B)\n",
    "# subtract matrices\n",
    "C = A - B\n",
    "print(C)"
   ]
  },
  {
   "cell_type": "markdown",
   "id": "c431fabd",
   "metadata": {},
   "source": [
    "### 3.3.3 Matrix Multiplication (Hamard Product)\n",
    "Two matrices with the same size can be multiplied together, and this is often called element-wise\n",
    "matrix multiplication or the Hadamard product. It is not the typical operation meant when\n",
    "referring to matrix multiplication, therefore a diﬀerent operator is often used, such as a circle ◦.\n",
    "\n",
    "$C = A ◦ B$\n",
    "\n",
    "As with element-wise subtraction and addition, element-wise multiplication involves the\n",
    "multiplication of elements from each parent matrix to calculate the values in the new matrix.\n",
    "\n",
    "$C = \\begin{bmatrix}a_{1,1} \\times b_{1,1} & a_{1,2} \\times b_{1,2} & a_{1,3} \\times b_{1,3} \\\\ a_{2,1} \\times b_{2,1} & a_{2,2} \\times b_{2,2} & a_{2,3} \\times b_{2,3} \\\\ a_{3,1} \\times b_{3,1} & a_{3,2} \\times b_{3,2} & a_{3,3} \\times b_{3,3} \\end{bmatrix}$\n",
    "\n",
    "We can implement this in Python using the star operator directly on the two NumPy arrays."
   ]
  },
  {
   "cell_type": "code",
   "execution_count": 4,
   "id": "cad1fa9c",
   "metadata": {},
   "outputs": [
    {
     "name": "stdout",
     "output_type": "stream",
     "text": [
      "[[1 2 3]\n",
      " [4 5 6]]\n",
      "[[1 2 3]\n",
      " [4 5 6]]\n",
      "[[ 1  4  9]\n",
      " [16 25 36]]\n"
     ]
    }
   ],
   "source": [
    "# matrix Hadamard product\n",
    "from numpy import array\n",
    "# define first matrix\n",
    "A = array([\n",
    "[1, 2, 3],\n",
    "[4, 5, 6]])\n",
    "print(A)\n",
    "# define second matrix\n",
    "B = array([\n",
    "[1, 2, 3],\n",
    "[4, 5, 6]])\n",
    "print(B)\n",
    "# multiply matrices\n",
    "C = A * B\n",
    "print(C)"
   ]
  },
  {
   "cell_type": "markdown",
   "id": "652439ad",
   "metadata": {},
   "source": [
    "### 3.3.4 Matrix Division\n",
    "One matrix can be divided by another matrix with the same dimensions.\n",
    "\n",
    "$C = A / B$\n",
    "\n",
    "The scalar elements in the resulting matrix are calculated as the division of the elements in\n",
    "each of the matrices.\n",
    "\n",
    "$C = \\begin{bmatrix}\\frac{a_{1,1}}{b_{1,1}} & \\frac{a_{1,2}}{b_{1,2}} & \\frac{a_{1,3}}{b_{1,3}} \\\\ \\frac{a_{2,1}}{b_{2,1}} & \\frac{a_{2,2}}{b_{2,2}} & \\frac{a_{2,3}}{b_{2,3}} \\\\ \\frac{a_{3,1}}{b_{3,1}} & \\frac{a_{3,2}}{b_{3,2}} & \\frac{a_{3,3}}{b_{3,3}} \\end{bmatrix}$\n",
    "\n",
    "We can implement this in Python using the division operator directly on the two NumPy\n",
    "arrays."
   ]
  },
  {
   "cell_type": "code",
   "execution_count": 5,
   "id": "d3832db1",
   "metadata": {},
   "outputs": [
    {
     "name": "stdout",
     "output_type": "stream",
     "text": [
      "[[1 2 3]\n",
      " [4 5 6]]\n",
      "[[1 2 3]\n",
      " [4 5 6]]\n",
      "[[1. 1. 1.]\n",
      " [1. 1. 1.]]\n"
     ]
    }
   ],
   "source": [
    "# matrix division\n",
    "from numpy import array\n",
    "# define first matrix\n",
    "A = array([\n",
    "[1, 2, 3],\n",
    "[4, 5, 6]])\n",
    "print(A)\n",
    "# define second matrix\n",
    "B = array([\n",
    "[1, 2, 3],\n",
    "[4, 5, 6]])\n",
    "print(B)\n",
    "# divide matrices\n",
    "C = A / B\n",
    "print(C)"
   ]
  },
  {
   "cell_type": "markdown",
   "id": "e75208ed",
   "metadata": {},
   "source": [
    "## 3.4 Matrix-Matrix Multiplication\n",
    "Matrix multiplication, also called the matrix dot product is more complicated than the previous\n",
    "operations and involves a rule as not all matrices can be multiplied together.\n",
    "\n",
    "$C = A · B$\n",
    "\n",
    "or\n",
    "\n",
    "$C= AB$\n",
    "\n",
    "The rule for matrix multiplication is as follows:\n",
    "\n",
    "- The number of columns (n) in the first matrix (A) must equal the number of rows (m) in the second matrix (B).\n",
    "\n",
    "For example, matrix $A$ has the dimensions $m$ rows and $n$ columns and matrix $B$ has the\n",
    "dimensions $n$ and $k$. The $n$ columns in $A$ and $n$ rows in $B$ are equal. The result is a new matrix\n",
    "with $m$ rows and $k$ columns.\n",
    "\n",
    "$C(m,k) = A(m,n)·B(n,k)$\n",
    "\n",
    "This rule applies for a chain of matrix multiplications where the number of columns in one matrix in the chain must match the number of rows in the following matrix in the chain.\n",
    "\n",
    "> One of the most important operations involving matrices is multiplication of two matrices. The matrix product of matrices $A$ and $B$ is a third matrix $C$. In order for this product to be defined, $A$ must have the same number of columns as $B$ has rows. If $A$ is of shape $m×n$ and $B$ is of shape $n×p$, then $C$ is of shape $m×p$.\n",
    ">\n",
    "> — Page 34, *Deep Learning*, 2016.\n",
    "\n",
    "The intuition for the matrix multiplication is that we are calculating the dot product between each row in matrix $A$ with each column in matrix $B$. For example, we can step down rows of column $A$ and multiply each with column 1 in $B$ to give the scalar values in column 1 of $C$. Below describes the matrix multiplication using matrix notation.\n",
    "\n",
    "$A = \\begin{bmatrix}a_{1,1} & a_{1,2} \\\\ a_{2,1} & a_{2,2} \\\\ a_{3,1} & a_{3,2} \\end{bmatrix}$\n",
    "\n",
    "$B = \\begin{bmatrix}b_{1,1} & b_{1,2} \\\\ b_{2,1} & b_{2,2} \\end{bmatrix}$\n",
    "\n",
    "$C = \\begin{bmatrix}a_{1,1} \\times b_{1,1} + a_{1,2} \\times b_{2,1} & a_{1,1} \\times b_{1,2} + a_{1,2} \\times b_{2,2} \\\\ a_{2,1} \\times b_{1,1} + a_{2,2} \\times b_{2,1} & a_{2,1} \\times b_{1,2} + a_{2,2} \\times b_{2,2} \\\\ a_{3,1} \\times b_{1,1} + a_{3,2} \\times b_{2,1} & a_{3,1} \\times b_{1,2} + a_{3,2} \\times b_{2,2} \\end{bmatrix}$\n",
    "\n",
    "The matrix multiplication operation can be implemented in NumPy using the `dot()` function.\n",
    "It can also be calculated using the newer $@$ operator, since Python version 3.5. The example\n",
    "below demonstrates both methods."
   ]
  },
  {
   "cell_type": "code",
   "execution_count": 8,
   "id": "1d882f6f",
   "metadata": {},
   "outputs": [
    {
     "name": "stdout",
     "output_type": "stream",
     "text": [
      "[[1 2]\n",
      " [3 4]\n",
      " [5 6]]\n",
      "[[1 2]\n",
      " [3 4]]\n",
      "[[ 7 10]\n",
      " [15 22]\n",
      " [23 34]]\n",
      "[[ 7 10]\n",
      " [15 22]\n",
      " [23 34]]\n"
     ]
    }
   ],
   "source": [
    "# matrix dot product\n",
    "from numpy import array\n",
    "# define first matrix\n",
    "A = array([\n",
    "[1, 2],\n",
    "[3, 4],\n",
    "[5, 6]])\n",
    "print(A)\n",
    "# define second matrix\n",
    "B = array([\n",
    "[1, 2],\n",
    "[3, 4]])\n",
    "print(B)\n",
    "# multiply matrices\n",
    "C = A.dot(B)\n",
    "print(C)\n",
    "# multiply matrices with @ operator\n",
    "D = A @ B\n",
    "print(D)"
   ]
  },
  {
   "cell_type": "markdown",
   "id": "83de9a74",
   "metadata": {},
   "source": [
    "## 3.5 Matrix-Vector Multiplication\n",
    "A matrix and a vector can be multiplied together as long as the rule of matrix multiplication is observed. Specifically, that the number of columns in the matrix must equal the number of items in the vector. As with matrix multiplication, the operation can be written using the dot notation. Because the vector only has one column, the result is always a vector.\n",
    "\n",
    "$c= A·v $\n",
    "\n",
    "Or without the dot in a compact form.\n",
    "\n",
    "$c= Av $\n",
    "\n",
    "The result is a vector with the same number of rows as the parent matrix.\n",
    "\n",
    "$A = \\begin{bmatrix}a_{1,1} & a_{1,2} \\\\ a_{2,1} & a_{2,2} \\\\ a_{3,1} & a_{3,2} \\end{bmatrix}$\n",
    "\n",
    "$v = \\begin{pmatrix}v_1 \\cr v_2 \\end{pmatrix}$\n",
    "\n",
    "$c = \\begin{bmatrix} a_{1,1} \\times v_1 + a_{1,2} \\times v_2 \\\\ a_{2,1} \\times v_1 + a_{2,2} \\times v_2 \\\\ a_{3,1} \\times v_1 + a_{3,2} \\times v_2 \\end{bmatrix}$\n",
    "\n",
    "Or, more compactly.\n",
    "\n",
    "$c = \\begin{bmatrix} a_{1,1}v_1 + a_{1,2}v_2 \\\\ a_{2,1}v_1 + a_{2,2}v_2 \\\\ a_{3,1}v_1 + a_{3,2}v_2 \\end{bmatrix}$\n",
    "\n",
    "The matrix-vector multiplication can be implemented in NumPy using the `dot()` function."
   ]
  },
  {
   "cell_type": "code",
   "execution_count": 9,
   "id": "251c9987",
   "metadata": {},
   "outputs": [
    {
     "name": "stdout",
     "output_type": "stream",
     "text": [
      "[[1 2]\n",
      " [3 4]\n",
      " [5 6]]\n",
      "[0.5 0.5]\n",
      "[1.5 3.5 5.5]\n"
     ]
    }
   ],
   "source": [
    "# matrix-vector multiplication\n",
    "from numpy import array\n",
    "# define matrix\n",
    "A = array([\n",
    "[1, 2],\n",
    "[3, 4],\n",
    "[5, 6]])\n",
    "print(A)\n",
    "# define vector\n",
    "B = array([0.5, 0.5])\n",
    "print(B)\n",
    "# multiply\n",
    "C = A.dot(B)\n",
    "print(C)"
   ]
  },
  {
   "cell_type": "markdown",
   "id": "03381639",
   "metadata": {},
   "source": [
    "## 3.5 Matrix-Scalar Multiplication\n",
    "A matrix can be multiplied by a scalar. This can be represented using the dot notation between\n",
    "the matrix and the scalar.\n",
    "\n",
    "$C= A·b$\n",
    "\n",
    "Or without the dot notation.\n",
    "\n",
    "$C= Ab$\n",
    "\n",
    "The result is a matrix with the same size as the parent matrix where each element of the\n",
    "matrix is multiplied by the scalar value.\n",
    "\n",
    "$A = \\begin{bmatrix}a_{1,1} & a_{1,2} \\\\ a_{2,1} & a_{2,2} \\\\ a_{3,1} & a_{3,2} \\end{bmatrix}$\n",
    "\n",
    "\n",
    "$C = \\begin{bmatrix} a_{1,1} \\times b & a_{1,2} \\times b \\\\ a_{2,1} \\times b & a_{2,2} \\times b \\\\ a_{3,1} \\times b & a_{3,2} \\times b \\end{bmatrix}$\n",
    "\n",
    "or\n",
    "\n",
    "$C = \\begin{bmatrix} a_{1,1}b & a_{1,2}b \\\\ a_{2,1}b & a_{2,2}b \\\\ a_{3,1}b & a_{3,2}b \\end{bmatrix}$\n",
    "\n",
    "This can be implemented directly in NumPy with the multiplication operator."
   ]
  },
  {
   "cell_type": "code",
   "execution_count": 10,
   "id": "434351b0",
   "metadata": {},
   "outputs": [
    {
     "name": "stdout",
     "output_type": "stream",
     "text": [
      "[[1 2]\n",
      " [3 4]\n",
      " [5 6]]\n",
      "0.5\n",
      "[[0.5 1. ]\n",
      " [1.5 2. ]\n",
      " [2.5 3. ]]\n"
     ]
    }
   ],
   "source": [
    "# matrix-scalar multiplication\n",
    "from numpy import array\n",
    "# define matrix\n",
    "A = array([[1, 2], [3, 4], [5, 6]])\n",
    "print(A)\n",
    "# define scalar\n",
    "b = 0.5\n",
    "print(b)\n",
    "# multiply\n",
    "C = A * b\n",
    "print(C)"
   ]
  }
 ],
 "metadata": {
  "kernelspec": {
   "display_name": "llm",
   "language": "python",
   "name": "python3"
  },
  "language_info": {
   "codemirror_mode": {
    "name": "ipython",
    "version": 3
   },
   "file_extension": ".py",
   "mimetype": "text/x-python",
   "name": "python",
   "nbconvert_exporter": "python",
   "pygments_lexer": "ipython3",
   "version": "3.13.3"
  }
 },
 "nbformat": 4,
 "nbformat_minor": 5
}
