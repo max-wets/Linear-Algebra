{
 "cells": [
  {
   "cell_type": "markdown",
   "id": "0d1f341e",
   "metadata": {},
   "source": [
    "# 4. Types of Matrices\n",
    "A lot of linear algebra is concerned with operations on vectors and matrices, and there are many diﬀerent types of matrices. There are a few types of matrices that you may encounter again and again when getting started in linear algebra, particularity the parts of linear algebra relevant to machine learning. In this tutorial, you will discover a suite of diﬀerent types of matrices from the field of linear algebra that you may encounter in machine learning. After completing this tutorial, you will know:\n",
    "\n",
    "- Square, symmetric, triangular, and diagonal matrices that are much as their names suggest.\n",
    "- Identity matrices that are all zero values except along the main diagonal where the values are 1.\n",
    "- Orthogonal matrices that generalize the idea of perpendicular vectors and have useful\n",
    "computational properties."
   ]
  },
  {
   "cell_type": "markdown",
   "id": "5b250cea",
   "metadata": {},
   "source": [
    "## 4.1 Square Matrix\n",
    "A square matrix is a matrix where the number of rows $(n)$ is equivalent to the number of\n",
    "columns $(m)$.\n",
    "\n",
    "$n≡m$\n",
    "\n",
    "The square matrix is contrasted with the rectangular matrix where the number of rows and columns are not equal. Given that the number of rows and columns match, the dimensions are usually denoted as $n$, e.g. $n×n$. The size of the matrix is called the order, so an order 4 square matrix is 4 ×4. The vector of values along the diagonal of the matrix from the top left to the bottom right is called the main diagonal. Below is an example of an order 3 square matrix.\n",
    "\n",
    "$M = \\begin{bmatrix} 1 & 2 & 3 \\\\ 1 & 2 & 3 \\\\ 1 & 2 & 3 \\end{bmatrix}$\n",
    "\n",
    "Square matrices are readily added and multiplied together and are the basis of many simple linear transformations, such as rotations (as in the rotations of images)."
   ]
  },
  {
   "cell_type": "markdown",
   "id": "52495795",
   "metadata": {},
   "source": [
    "## 4.2 Symmetric Matrix\n",
    "A symmetric matrix is a type of square matrix where the top-right triangle is the same as the bottom-left triangle.\n",
    "\n",
    "> It is no exaggeration to say that symmetric matrices $S$ are the most important matrices the world will ever see — in the theory of linear algebra and also in the applications.\n",
    ">\n",
    "> - Page 338, *Introduction to Linear Algebra, Fifth Edition*, 2016.\n",
    "\n",
    "To be symmetric, the axis of symmetry is always the main diagonal of the matrix, from the top left to the bottom right. Below is an example of a 5 × 5 symmetric matrix.\n",
    "\n",
    "$M = \\begin{bmatrix} 1 & 2 & 3 & 4 & 5 \\\\ 2 & 1 & 2 & 3 & 4 \\\\ 3 & 2 & 1 & 2 & 3 \\\\ 4 & 3 & 2 & 1 & 2 \\\\ 5 & 4 & 3 & 2 & 1 \\end{bmatrix}$\n",
    "\n",
    "A symmetric matrix is always square and equal to its own transpose. The transpose is an operation that flips the number of rows and columns. It is explained in more detail in the next lesson.\n",
    "\n",
    "$M= M^T$\n",
    "\n",
    "## 4.3 Triangular Matrix\n",
    "A triangular matrix is a type of square matrix that has all values in the upper-right or lower-left of the matrix with the remaining elements filled with zero values. A triangular matrix with values only above the main diagonal is called an upper triangular matrix. Whereas, a triangular matrix with values only below the main diagonal is called a lower triangular matrix. Below is an example of a 3 × 3 upper triangular matrix.\n",
    "\n",
    "$M = \\begin{bmatrix} 1 & 2 & 3 \\\\ 0 & 2 & 3 \\\\ 0 & 0 & 3 \\end{bmatrix}$\n",
    "\n",
    "Below is an example of a 3 ×3 lower triangular matrix.\n",
    "\n",
    "$M = \\begin{bmatrix} 1 & 0 & 0 \\\\ 1 & 2 & 0 \\\\ 1 & 2 & 3 \\end{bmatrix}$\n",
    "\n",
    "NumPy provides functions to calculate a triangular matrix from an existing square matrix. The `tril()` function to calculate the lower triangular matrix from a given matrix and the `triu()` to calculate the upper triangular matrix from a given matrix The example below defines a 3 × 3 square matrix and calculates the lower and upper triangular matrix from it.\n"
   ]
  },
  {
   "cell_type": "code",
   "execution_count": 1,
   "id": "b615807f",
   "metadata": {},
   "outputs": [
    {
     "name": "stdout",
     "output_type": "stream",
     "text": [
      "[[1 2 3]\n",
      " [1 2 3]\n",
      " [1 2 3]]\n",
      "[[1 0 0]\n",
      " [1 2 0]\n",
      " [1 2 3]]\n",
      "[[1 2 3]\n",
      " [0 2 3]\n",
      " [0 0 3]]\n"
     ]
    }
   ],
   "source": [
    "# triangular matrices\n",
    "from numpy import array\n",
    "from numpy import tril\n",
    "from numpy import triu\n",
    "# define square matrix\n",
    "M = array([\n",
    "[1, 2, 3],\n",
    "[1, 2, 3],\n",
    "[1, 2, 3]])\n",
    "print(M)\n",
    "# lower triangular matrix\n",
    "lower = tril(M)\n",
    "print(lower)\n",
    "# upper triangular matrix\n",
    "upper = triu(M)\n",
    "print(upper)"
   ]
  },
  {
   "cell_type": "markdown",
   "id": "0bdc3245",
   "metadata": {},
   "source": [
    "## 4.4 Diagonal Matrix\n",
    "A diagonal matrix is one where values outside of the main diagonal have a zero value, where the main diagonal is taken from the top left of the matrix to the bottom right. A diagonal matrix is often denoted with the variable $D$ and may be represented as a full matrix or as a vector of values on the main diagonal.\n",
    "\n",
    "> Diagonal matrices consist mostly of zeros and have non-zero entries only along the main diagonal.\n",
    ">\n",
    "> - Page 40, *Deep Learning*, 2016.\n",
    "\n",
    "Below is an example of a 3 × 3 square diagonal matrix.\n",
    "\n",
    "$D = \\begin{bmatrix} 1 & 0 & 0 \\\\ 0 & 2 & 0 \\\\ 0 & 0 & 3 \\end{bmatrix}$\n",
    "\n",
    "As a vector, it would be represented as:\n",
    "\n",
    "$v = \\begin{pmatrix} d_{1,1} \\cr d_{2,2} \\cr d_{3,3} \\end{pmatrix}$\n",
    "\n",
    "Or, with the specified scalar values:\n",
    "\n",
    "$v = \\begin{pmatrix} 1 \\cr 2 \\cr 3 \\end{pmatrix}$\n",
    "\n",
    "A diagonal matrix does not have to be square. In the case of a rectangular matrix, the diagonal would cover the dimension with the smallest length; for example:\n",
    "\n",
    "$D = \\begin{bmatrix} 1 & 0 & 0 & 0 \\\\ 0 & 2 & 0 & 0 \\\\ 0 & 0 & 3 & 0 \\\\ 0 & 0 & 0 & 4 \\\\ 0 & 0 & 0 & 0 \\end{bmatrix}$\n",
    "\n",
    "NumPy provides the function `diag()` that can create a diagonal matrix from an existing matrix, or transform a vector into a diagonal matrix. The example below defines a 3 × 3 square matrix, extracts the main diagonal as a vector, and then creates a diagonal matrix from the extracted vector."
   ]
  },
  {
   "cell_type": "code",
   "execution_count": 2,
   "id": "b552e094",
   "metadata": {},
   "outputs": [
    {
     "name": "stdout",
     "output_type": "stream",
     "text": [
      "[[1 2 3]\n",
      " [1 2 3]\n",
      " [1 2 3]]\n",
      "[1 2 3]\n",
      "[[1 0 0]\n",
      " [0 2 0]\n",
      " [0 0 3]]\n"
     ]
    }
   ],
   "source": [
    "# diagonal matrix\n",
    "from numpy import array\n",
    "from numpy import diag\n",
    "# define square matrix\n",
    "M = array([\n",
    "[1, 2, 3],\n",
    "[1, 2, 3],\n",
    "[1, 2, 3]])\n",
    "print(M)\n",
    "# extract diagonal vector\n",
    "d = diag(M)\n",
    "print(d)\n",
    "# create diagonal matrix from vector\n",
    "D = diag(d)\n",
    "print(D)"
   ]
  },
  {
   "cell_type": "markdown",
   "id": "3e841804",
   "metadata": {},
   "source": [
    "## 4.5 Identity Matrix\n",
    "An identity matrix is a square matrix that does not change a vector when multiplied. The values of an identity matrix are known. All of the scalar values along the main diagonal (top-left to bottom-right) have the value one, while all other values are zero.\n",
    "\n",
    "> An identity matrix is a matrix that does not change any vector when we multiply that vector by that matrix.\n",
    ">\n",
    "> -- Page 36, *Deep Learning*, 2016.\n",
    "\n",
    "An identity matrix is often represented using the notation $I$ or with the dimensionality $I^n$, where $n$ is a subscript that indicates the dimensionality of the square identity matrix. In some notations, the identity may be referred to as the unit matrix, or $U$, to honor the one value it contains (this is diﬀerent from a Unitary matrix). For example, an identity matrix with the size 3 or $I^3$ would be as follows:\n",
    "\n",
    "$I = \\begin{bmatrix} 1 & 0 & 0 \\\\ 0 & 1 & 0 \\\\ 0 & 0 & 1 \\end{bmatrix}$\n",
    "\n",
    "In NumPy, an identity matrix can be created with a specific size using the `identity()` function. The example below creates an $I^3$ identity matrix."
   ]
  },
  {
   "cell_type": "code",
   "execution_count": 3,
   "id": "54be4e24",
   "metadata": {},
   "outputs": [
    {
     "name": "stdout",
     "output_type": "stream",
     "text": [
      "[[1. 0. 0.]\n",
      " [0. 1. 0.]\n",
      " [0. 0. 1.]]\n"
     ]
    }
   ],
   "source": [
    "# identity matrix\n",
    "from numpy import identity\n",
    "I = identity(3)\n",
    "print(I)"
   ]
  },
  {
   "cell_type": "markdown",
   "id": "aabf0f05",
   "metadata": {},
   "source": [
    "Alone, the identity matrix is not that interesting, although it is a component in other import\n",
    "matrix operations, such as matrix inversion."
   ]
  },
  {
   "cell_type": "markdown",
   "id": "37c9565a",
   "metadata": {},
   "source": [
    "## 4.6 Orthogonal Matrix\n",
    "Two vectors are orthogonal when their dot product equals zero. The length of each vector is 1 then the vectors are called orthonormal because they are both orthogonal and normalized.\n",
    "\n",
    "$v·w= 0$\n",
    "\n",
    "or\n",
    "\n",
    "$v·w^T = 0$\n",
    "\n",
    "This is intuitive when we consider that one line is orthogonal with another if it is perpendicular to it. An orthogonal matrix is a type of square matrix whose columns and rows are orthonormal unit vectors, e.g. perpendicular and have a length or magnitude of 1.\n",
    "\n",
    "> An orthogonal matrix is a square matrix whose rows are mutually orthonormal and whose columns are mutually orthonormal\n",
    ">\n",
    "> -- Page 41, *Deep Learning*, 2016.\n",
    "\n",
    "An Orthogonal matrix is often denoted as uppercase $Q$.\n",
    "\n",
    "> Multiplication by an orthogonal matrix preserves lengths.\n",
    ">\n",
    "> -- Page 277, *No Bullshit Guide To Linear Algebra*, 2017.\n",
    "\n",
    "The Orthogonal matrix is defined formally as follows:\n",
    "\n",
    "$Q^T·Q = Q·Q^T = I$\n",
    "\n",
    "Where $Q$ is the orthogonal matrix, $Q^T$ indicates the transpose of $Q$, and $I$ is the identity matrix. A matrix is orthogonal if its transpose is equal to its inverse.\n",
    "\n",
    "$Q^T = Q^−1$\n",
    "\n",
    "Another equivalence for an orthogonal matrix is if the dot product of the matrix and itself equals the identity matrix.\n",
    "\n",
    "$Q·Q^T = I$\n",
    "\n",
    "Orthogonal matrices are used a lot for linear transformations, such as reflections and permutations. A simple 2 × 2 orthogonal matrix is listed below, which is an example of a reflection matrix or coordinate reflection.\n",
    "\n",
    "$Q = \\begin{bmatrix} 1 & 0 \\\\ 0 & -1 \\end{bmatrix}$\n",
    "\n",
    "The example below creates this orthogonal matrix and checks the above equivalences."
   ]
  },
  {
   "cell_type": "code",
   "execution_count": 4,
   "id": "c4dc44dc",
   "metadata": {},
   "outputs": [
    {
     "name": "stdout",
     "output_type": "stream",
     "text": [
      "[[ 1  0]\n",
      " [ 0 -1]]\n",
      "[[ 1  0]\n",
      " [ 0 -1]]\n",
      "[[ 1.  0.]\n",
      " [-0. -1.]]\n",
      "[[1 0]\n",
      " [0 1]]\n"
     ]
    }
   ],
   "source": [
    "# orthogonal matrix\n",
    "from numpy import array\n",
    "from numpy.linalg import inv\n",
    "# define orthogonal matrix\n",
    "Q = array([\n",
    "[1, 0],\n",
    "[0, -1]])\n",
    "print(Q)\n",
    "# inverse equivalence\n",
    "V = inv(Q)\n",
    "print(Q.T)\n",
    "print(V)\n",
    "# identity equivalence\n",
    "I = Q.dot(Q.T)\n",
    "print(I)"
   ]
  },
  {
   "cell_type": "markdown",
   "id": "28e58450",
   "metadata": {},
   "source": [
    "Note, sometimes a number close to zero can be represented as -0 due to the rounding of floating point precision. Just take it as 0.0. Orthogonal matrices are useful tools as they are computationally cheap and stable to calculate their inverse as simply their transpose."
   ]
  }
 ],
 "metadata": {
  "kernelspec": {
   "display_name": "llm",
   "language": "python",
   "name": "python3"
  },
  "language_info": {
   "codemirror_mode": {
    "name": "ipython",
    "version": 3
   },
   "file_extension": ".py",
   "mimetype": "text/x-python",
   "name": "python",
   "nbconvert_exporter": "python",
   "pygments_lexer": "ipython3",
   "version": "3.13.3"
  }
 },
 "nbformat": 4,
 "nbformat_minor": 5
}
