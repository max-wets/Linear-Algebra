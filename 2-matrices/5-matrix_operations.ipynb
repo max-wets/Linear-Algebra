{
 "cells": [
  {
   "cell_type": "markdown",
   "id": "a4c626b7",
   "metadata": {},
   "source": [
    "# 5. Matrix Operations\n",
    "Matrix operations are used in the description of many machine learning algorithms. Some operations can be used directly to solve key equations, whereas others provide useful shorthand or foundation in the description and the use of more complex matrix operations. In this tutorial, you will discover important linear algebra matrix operations used in the description of machine learning methods. After completing this tutorial, you will know:\n",
    "- The Transpose operation for flipping the dimensions of a matrix.\n",
    "- The Inverse operations used in solving systems of linear equations.\n",
    "- The Trace and Determinant operations used as shorthand notation in other matrix operations."
   ]
  },
  {
   "cell_type": "markdown",
   "id": "1c93fe62",
   "metadata": {},
   "source": [
    "## 5.1 Transpose\n",
    "A defined matrix can be transposed, which creates a new matrix with the number of columns and rows flipped. This is denoted by the superscript $T$ next to the matrix $A^T$.\n",
    "\n",
    "$C = A^T$\n",
    "\n",
    "An invisible diagonal line can be drawn through the matrix from top left to bottom right on which the matrix can be flipped to give the transpose.\n",
    "\n",
    "$A = \\begin{bmatrix} 1 & 2 \\\\ 3 & 4 \\\\ 5 & 6 \\end{bmatrix}$\n",
    "\n",
    "$A^T = \\begin{bmatrix} 1 & 3 & 5 \\\\ 2 & 4 & 6 \\end{bmatrix}$\n",
    "\n",
    "The operation has no eﬀect if the matrix is symmetrical, e.g. has the same number of columns and rows and the same values at the same locations on both sides of the invisible diagonal line.\n",
    "\n",
    "> The columns of $A^T$ are the rows of $A$.\n",
    ">\n",
    "> -- Page 109, *Introduction to Linear Algebra*, Fifth Edition, 2016.\n",
    "\n",
    "We can transpose a matrix in NumPy by calling the T attribute."
   ]
  },
  {
   "cell_type": "code",
   "execution_count": 1,
   "id": "a252f2f8",
   "metadata": {},
   "outputs": [
    {
     "name": "stdout",
     "output_type": "stream",
     "text": [
      "[[1 2]\n",
      " [3 4]\n",
      " [5 6]]\n",
      "[[1 3 5]\n",
      " [2 4 6]]\n"
     ]
    }
   ],
   "source": [
    "# transpose matrix\n",
    "from numpy import array\n",
    "# define matrix\n",
    "A = array([\n",
    "[1, 2],\n",
    "[3, 4],\n",
    "[5, 6]])\n",
    "print(A)\n",
    "# calculate transpose\n",
    "C = A.T\n",
    "print(C)"
   ]
  },
  {
   "cell_type": "markdown",
   "id": "fbd62ece",
   "metadata": {},
   "source": [
    "The transpose operation provides a short notation used as an element in many matrix\n",
    "operations."
   ]
  },
  {
   "cell_type": "markdown",
   "id": "3a1a80fd",
   "metadata": {},
   "source": [
    "## 5.2 Inverse\n",
    "Matrix inversion is a process that finds another matrix that when multiplied with the matrix, results in an identity matrix. Given a matrix $A$, find matrix $B$, such that $AB = I^n$ or $BA = I^n$.\n",
    "\n",
    "The operation of inverting a matrix is indicated by a −1 superscript next to the matrix; for example, $A^−1$. The result of the operation is referred to as the inverse of the original matrix; for example, $B$ is the inverse of $A$.\n",
    "\n",
    "$B = A^{−1}$\n",
    "\n",
    "A matrix is invertible if there exists another matrix that results in the identity matrix, where not all matrices are invertible. A square matrix that is not invertible is referred to as singular.\n",
    "\n",
    "> Whatever $A$ does, $A^{−1}$ undoes.\n",
    ">\n",
    "> -- Page 83, *Introduction to Linear Algebra*, Fifth Edition, 2016.\n",
    "\n",
    "The matrix inversion operation is not computed directly, but rather the inverted matrix is discovered through a numerical operation, where a suite of eﬃcient methods may be used, often involving forms of matrix decomposition.\n",
    "\n",
    "> However, $A^1$ is primarily useful as a theoretical tool, and should not actually be used in practice for most software applications.\n",
    ">\n",
    "> -- Page 37, *Deep Learning*, 2016.\n",
    "\n",
    "A matrix can be inverted in NumPy using the `inv()` function."
   ]
  },
  {
   "cell_type": "code",
   "execution_count": 2,
   "id": "f4d89961",
   "metadata": {},
   "outputs": [
    {
     "name": "stdout",
     "output_type": "stream",
     "text": [
      "[[1. 2.]\n",
      " [3. 4.]]\n",
      "[[-2.   1. ]\n",
      " [ 1.5 -0.5]]\n",
      "[[1.0000000e+00 0.0000000e+00]\n",
      " [8.8817842e-16 1.0000000e+00]]\n"
     ]
    }
   ],
   "source": [
    "# invert matrix\n",
    "from numpy import array\n",
    "from numpy.linalg import inv\n",
    "# define matrix\n",
    "A = array([\n",
    "[1.0, 2.0],\n",
    "[3.0, 4.0]])\n",
    "print(A)\n",
    "# invert matrix\n",
    "B = inv(A)\n",
    "print(B)\n",
    "# multiply A and B\n",
    "I = A.dot(B)\n",
    "print(I)"
   ]
  },
  {
   "cell_type": "markdown",
   "id": "833a7474",
   "metadata": {},
   "source": [
    "Note, your specific results may vary given diﬀerences in floating point precision on diﬀerent hardware and software versions. Matrix inversion is used as an operation in solving systems of equations framed as matrix equations where we are interested in finding vectors of unknowns. A good example is in finding the vector of coeﬃcient values in linear regression."
   ]
  },
  {
   "cell_type": "markdown",
   "id": "8349c955",
   "metadata": {},
   "source": [
    "## 5.3 Trace\n",
    "A trace of a square matrix is the sum of the values on the main diagonal of the matrix (top-left to bottom-right).\n",
    "\n",
    "> The trace operator gives the sum of all of the diagonal entries of a matrix.\n",
    ">\n",
    "> -- Page 46, *Deep Learning*, 2016.\n",
    "\n",
    "The operation of calculating a trace on a square matrix is described using the notation $tr(A)$ where $A$ is the square matrix on which the operation is being performed.\n",
    "\n",
    "$tr(A)$\n",
    "\n",
    "The trace is calculated as the sum of the diagonal values; for example, in the case of a 3 × 3 matrix:\n",
    "\n",
    "$tr(A) = a1,1 + a2,2 + a3,3$\n",
    "\n",
    "Or, using array notation:\n",
    "\n",
    "$tr(A) = A[0,0] + A[1,1] + A[2,2]$\n",
    "\n",
    "We can calculate the trace of a matrix in NumPy using the `trace()` function."
   ]
  },
  {
   "cell_type": "code",
   "execution_count": 1,
   "id": "a29bf14a",
   "metadata": {},
   "outputs": [
    {
     "name": "stdout",
     "output_type": "stream",
     "text": [
      "[[1 2 3]\n",
      " [4 5 6]\n",
      " [7 8 9]]\n",
      "15\n"
     ]
    }
   ],
   "source": [
    "# matrix trace\n",
    "from numpy import array\n",
    "from numpy import trace\n",
    "# define matrix\n",
    "A = array([\n",
    "[1, 2, 3],\n",
    "[4, 5, 6],\n",
    "[7, 8, 9]])\n",
    "print(A)\n",
    "# calculate trace\n",
    "B = trace(A)\n",
    "print(B)"
   ]
  },
  {
   "cell_type": "markdown",
   "id": "3d078782",
   "metadata": {},
   "source": [
    "Alone, the trace operation is not interesting, but it oﬀers a simpler notation and it is used as an element in other key matrix operations."
   ]
  },
  {
   "cell_type": "markdown",
   "id": "e858eb61",
   "metadata": {},
   "source": [
    "## 5.4 Determinant\n",
    "The determinant of a square matrix is a scalar representation of the volume of the matrix.\n",
    "\n",
    "> The determinant describes the relative geometry of the vectors that make up the rows of the matrix. More specifically, the determinant of a matrix A tells you the volume of a box with sides given by rows of $A$.\n",
    ">\n",
    "> -- Page 119, *No Bullshit Guide To Linear Algebra*, 2017.\n",
    "\n",
    "It is denoted by the $det(A)$ notation or $|A|$, where $A$ is the matrix on which we are calculating the determinant.\n",
    "\n",
    "$det(A)$\n",
    "\n",
    "The determinant of a square matrix is calculated from the elements of the matrix. More technically, the determinant is the product of all the eigenvalues of the matrix. Eigenvalues are introduced in the lessons on matrix factorization. The intuition for the determinant is that it describes the way a matrix will scale another matrix when they are multiplied together. For example, a determinant of 1 preserves the space of the other matrix. A determinant of 0 indicates that the matrix cannot be inverted.\n",
    "\n",
    "> The determinant of a square matrix is a single number. [...] It tells immediately whether the matrix is invertible. The determinant is a zero when the matrix has no inverse.\n",
    ">\n",
    "> -- Page 247, *Introduction to Linear Algebra*, Fifth Edition, 2016.\n",
    "\n",
    "In NumPy, the determinant of a matrix can be calculated using the `det()` function."
   ]
  },
  {
   "cell_type": "code",
   "execution_count": 2,
   "id": "488e2c80",
   "metadata": {},
   "outputs": [
    {
     "name": "stdout",
     "output_type": "stream",
     "text": [
      "[[1 2 3]\n",
      " [4 5 6]\n",
      " [7 8 9]]\n",
      "-9.51619735392994e-16\n"
     ]
    }
   ],
   "source": [
    "# matrix determinant\n",
    "from numpy import array\n",
    "from numpy.linalg import det\n",
    "# define matrix\n",
    "A = array([\n",
    "[1, 2, 3],\n",
    "[4, 5, 6],\n",
    "[7, 8, 9]])\n",
    "print(A)\n",
    "# calculate determinant\n",
    "B = det(A)\n",
    "print(B)"
   ]
  },
  {
   "cell_type": "markdown",
   "id": "837b7692",
   "metadata": {},
   "source": [
    "Like the trace operation, alone, the determinant operation is not interesting, but it oﬀers a simpler notation and it is used as an element in other key matrix operations."
   ]
  },
  {
   "cell_type": "markdown",
   "id": "d697ffa9",
   "metadata": {},
   "source": [
    "## 5.5 Rank\n",
    "The rank of a matrix is the estimate of the number of linearly independent rows or columns in a matrix. The rank of a matrix $M$ is often denoted as the function `rank()`.\n",
    "\n",
    "$rank(A)$\n",
    "\n",
    "An intuition for rank is to consider it the number of dimensions spanned by all of the vectors within a matrix. For example, a rank of 0 suggest all vectors span a point, a rank of 1 suggests all vectors span a line, a rank of 2 suggests all vectors span a two-dimensional plane. The rank is estimated numerically, often using a matrix decomposition method. A common approach is to use the Singular-Value Decomposition or SVD for short. NumPy provides the matrix `rank()` function for calculating the rank of an array. It uses the SVD method to estimate the rank. The example below demonstrates calculating the rank of a matrix with scalar values and another vector with all zero values."
   ]
  },
  {
   "cell_type": "code",
   "execution_count": 3,
   "id": "7157747f",
   "metadata": {},
   "outputs": [
    {
     "name": "stdout",
     "output_type": "stream",
     "text": [
      "[1 2 3]\n",
      "1\n",
      "[0 0 0 0 0]\n",
      "0\n"
     ]
    }
   ],
   "source": [
    "# vector rank\n",
    "from numpy import array\n",
    "from numpy.linalg import matrix_rank\n",
    "# rank\n",
    "v1 = array([1,2,3])\n",
    "print(v1)\n",
    "vr1 = matrix_rank(v1)\n",
    "print(vr1)\n",
    "# zero rank\n",
    "v2 = array([0,0,0,0,0])\n",
    "print(v2)\n",
    "vr2 = matrix_rank(v2)\n",
    "print(vr2)"
   ]
  },
  {
   "cell_type": "markdown",
   "id": "ed48c92f",
   "metadata": {},
   "source": [
    "The next example makes it clear that the rank is not the number of dimensions of the matrix, but the number of linearly independent directions. Three examples of a 2 ×2 matrix are provided demonstrating matrices with rank 0, 1 and 2."
   ]
  },
  {
   "cell_type": "code",
   "execution_count": 4,
   "id": "d4e5f6ba",
   "metadata": {},
   "outputs": [
    {
     "name": "stdout",
     "output_type": "stream",
     "text": [
      "[[0 0]\n",
      " [0 0]]\n",
      "0\n",
      "[[1 2]\n",
      " [1 2]]\n",
      "1\n",
      "[[1 2]\n",
      " [3 4]]\n",
      "2\n"
     ]
    }
   ],
   "source": [
    "# matrix rank\n",
    "from numpy import array\n",
    "from numpy.linalg import matrix_rank\n",
    "# rank 0\n",
    "M0 = array([\n",
    "[0,0],\n",
    "[0,0]])\n",
    "print(M0)\n",
    "mr0 = matrix_rank(M0)\n",
    "print(mr0)\n",
    "# rank 1\n",
    "M1 = array([\n",
    "[1,2],\n",
    "[1,2]])\n",
    "print(M1)\n",
    "mr1 = matrix_rank(M1)\n",
    "print(mr1)\n",
    "# rank 2\n",
    "M2 = array([\n",
    "[1,2],\n",
    "[3,4]])\n",
    "print(M2)\n",
    "mr2 = matrix_rank(M2)\n",
    "print(mr2)"
   ]
  }
 ],
 "metadata": {
  "kernelspec": {
   "display_name": "llm",
   "language": "python",
   "name": "python3"
  },
  "language_info": {
   "codemirror_mode": {
    "name": "ipython",
    "version": 3
   },
   "file_extension": ".py",
   "mimetype": "text/x-python",
   "name": "python",
   "nbconvert_exporter": "python",
   "pygments_lexer": "ipython3",
   "version": "3.13.3"
  }
 },
 "nbformat": 4,
 "nbformat_minor": 5
}
