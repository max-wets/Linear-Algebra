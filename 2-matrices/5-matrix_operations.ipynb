{
 "cells": [
  {
   "cell_type": "markdown",
   "id": "a4c626b7",
   "metadata": {},
   "source": [
    "# 5. Matrix Operations\n",
    "Matrix operations are used in the description of many machine learning algorithms. Some operations can be used directly to solve key equations, whereas others provide useful shorthand or foundation in the description and the use of more complex matrix operations. In this tutorial, you will discover important linear algebra matrix operations used in the description of machine learning methods. After completing this tutorial, you will know:\n",
    "- The Transpose operation for flipping the dimensions of a matrix.\n",
    "- The Inverse operations used in solving systems of linear equations.\n",
    "- The Trace and Determinant operations used as shorthand notation in other matrix operations."
   ]
  },
  {
   "cell_type": "markdown",
   "id": "1c93fe62",
   "metadata": {},
   "source": [
    "## 5.1 Transpose\n",
    "A defined matrix can be transposed, which creates a new matrix with the number of columns and rows flipped. This is denoted by the superscript $T$ next to the matrix $A^T$.\n",
    "\n",
    "$C = A^T$\n",
    "\n",
    "An invisible diagonal line can be drawn through the matrix from top left to bottom right on which the matrix can be flipped to give the transpose.\n",
    "\n",
    "$A = \\begin{bmatrix} 1 & 2 \\\\ 3 & 4 \\\\ 5 & 6 \\end{bmatrix}$\n",
    "\n",
    "$A^T = \\begin{bmatrix} 1 & 3 & 5 \\\\ 2 & 4 & 6 \\end{bmatrix}$\n",
    "\n",
    "The operation has no eﬀect if the matrix is symmetrical, e.g. has the same number of columns and rows and the same values at the same locations on both sides of the invisible diagonal line.\n",
    "\n",
    "> The columns of $A^T$ are the rows of $A$.\n",
    ">\n",
    "> -- Page 109, *Introduction to Linear Algebra*, Fifth Edition, 2016.\n",
    "\n",
    "We can transpose a matrix in NumPy by calling the T attribute."
   ]
  },
  {
   "cell_type": "code",
   "execution_count": 1,
   "id": "a252f2f8",
   "metadata": {},
   "outputs": [
    {
     "name": "stdout",
     "output_type": "stream",
     "text": [
      "[[1 2]\n",
      " [3 4]\n",
      " [5 6]]\n",
      "[[1 3 5]\n",
      " [2 4 6]]\n"
     ]
    }
   ],
   "source": [
    "# transpose matrix\n",
    "from numpy import array\n",
    "# define matrix\n",
    "A = array([\n",
    "[1, 2],\n",
    "[3, 4],\n",
    "[5, 6]])\n",
    "print(A)\n",
    "# calculate transpose\n",
    "C = A.T\n",
    "print(C)"
   ]
  },
  {
   "cell_type": "markdown",
   "id": "fbd62ece",
   "metadata": {},
   "source": [
    "The transpose operation provides a short notation used as an element in many matrix\n",
    "operations."
   ]
  },
  {
   "cell_type": "markdown",
   "id": "3a1a80fd",
   "metadata": {},
   "source": [
    "## 5.2 Inverse\n",
    "Matrix inversion is a process that finds another matrix that when multiplied with the matrix, results in an identity matrix. Given a matrix $A$, find matrix $B$, such that $AB = I^n$ or $BA = I^n$.\n",
    "\n",
    "The operation of inverting a matrix is indicated by a −1 superscript next to the matrix; for example, $A^−1$. The result of the operation is referred to as the inverse of the original matrix; for example, $B$ is the inverse of $A$.\n",
    "\n",
    "$B = A^{−1}$\n",
    "\n",
    "A matrix is invertible if there exists another matrix that results in the identity matrix, where not all matrices are invertible. A square matrix that is not invertible is referred to as singular.\n",
    "\n",
    "> Whatever $A$ does, $A^{−1}$ undoes.\n",
    ">\n",
    "> -- Page 83, *Introduction to Linear Algebra*, Fifth Edition, 2016.\n",
    "\n",
    "The matrix inversion operation is not computed directly, but rather the inverted matrix is discovered through a numerical operation, where a suite of eﬃcient methods may be used, often involving forms of matrix decomposition.\n",
    "\n",
    "> However, $A^1$ is primarily useful as a theoretical tool, and should not actually be used in practice for most software applications.\n",
    ">\n",
    "> -- Page 37, *Deep Learning*, 2016.\n",
    "\n",
    "A matrix can be inverted in NumPy using the `inv()` function."
   ]
  },
  {
   "cell_type": "code",
   "execution_count": 2,
   "id": "f4d89961",
   "metadata": {},
   "outputs": [
    {
     "name": "stdout",
     "output_type": "stream",
     "text": [
      "[[1. 2.]\n",
      " [3. 4.]]\n",
      "[[-2.   1. ]\n",
      " [ 1.5 -0.5]]\n",
      "[[1.0000000e+00 0.0000000e+00]\n",
      " [8.8817842e-16 1.0000000e+00]]\n"
     ]
    }
   ],
   "source": [
    "# invert matrix\n",
    "from numpy import array\n",
    "from numpy.linalg import inv\n",
    "# define matrix\n",
    "A = array([\n",
    "[1.0, 2.0],\n",
    "[3.0, 4.0]])\n",
    "print(A)\n",
    "# invert matrix\n",
    "B = inv(A)\n",
    "print(B)\n",
    "# multiply A and B\n",
    "I = A.dot(B)\n",
    "print(I)"
   ]
  },
  {
   "cell_type": "markdown",
   "id": "833a7474",
   "metadata": {},
   "source": [
    "Note, your specific results may vary given diﬀerences in floating point precision on diﬀerent hardware and software versions. Matrix inversion is used as an operation in solving systems of equations framed as matrix equations where we are interested in finding vectors of unknowns. A good example is in finding the vector of coeﬃcient values in linear regression."
   ]
  }
 ],
 "metadata": {
  "kernelspec": {
   "display_name": "llm",
   "language": "python",
   "name": "python3"
  },
  "language_info": {
   "codemirror_mode": {
    "name": "ipython",
    "version": 3
   },
   "file_extension": ".py",
   "mimetype": "text/x-python",
   "name": "python",
   "nbconvert_exporter": "python",
   "pygments_lexer": "ipython3",
   "version": "3.13.3"
  }
 },
 "nbformat": 4,
 "nbformat_minor": 5
}
