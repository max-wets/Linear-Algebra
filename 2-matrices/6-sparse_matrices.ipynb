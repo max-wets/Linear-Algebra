{
 "cells": [
  {
   "cell_type": "markdown",
   "id": "ab326c71",
   "metadata": {},
   "source": [
    "# 6. Sparse Matrices\n",
    "Matrices that contain mostly zero values are called sparse, distinct from matrices where most of the values are non-zero, called dense. Large sparse matrices are common in general and especially in applied machine learning, such as in data that contains counts, data encodings that map categories to counts, and even in whole subfields of machine learning such as natural language processing. It is computationally expensive to represent and work with sparse matrices as though they are dense, and much improvement in performance can be achieved by using representations and operations that specifically handle the matrix sparsity. In this tutorial, you will discover sparse matrices, the issues they present, and how to work with them directly in Python. After completing this tutorial, you will know:\n",
    "\n",
    "- That sparse matrices contain mostly zero values and are distinct from dense matrices.\n",
    "- The myriad of areas where you are likely to encounter sparse matrices in data, data preparation, and sub-fields of machine learning.\n",
    "- That there are many eﬃcient ways to store and work with sparse matrices and SciPy provides implementations that you can use directly."
   ]
  },
  {
   "cell_type": "markdown",
   "id": "59e37034",
   "metadata": {},
   "source": [
    "## 6.1 Sparse Matrix\n",
    "A sparse matrix is a matrix that is comprised of mostly zero values. Sparse matrices are distinct from matrices with mostly non-zero values, which are referred to as dense matrices.\n",
    "\n",
    "> A matrix is sparse if many of its coeﬃcients are zero. The interest in sparsity arises because its exploitation can lead to enormous computational savings and because many large matrix problems that occur in practice are sparse.\n",
    ">\n",
    "> -- Page 1, *Direct Methods for Sparse Matrices*, Second Edition, 2017.\n",
    "\n",
    "The sparsity of a matrix can be quantified with a score, which is the number of zero values in the matrix divided by the total number of elements in the matrix.\n",
    "\n",
    "$sparsity = \\frac{count of non-zero elements}{total elements}$\n",
    "\n",
    "Below is an example of a small 3 × 6 sparse matrix.\n",
    "\n",
    "$A = \\begin{bmatrix} 1 & 0 & 0 & 1 & 0 & 0 \\\\ 0 & 0 & 2 & 0 & 0 & 1 \\\\ 0 & 0 & 0 & 2 & 0 & 0 \\end{bmatrix}$\n",
    "\n",
    "The example has 13 zero values of the 18 elements in the matrix, giving this matrix a sparsity score of 0.722 or about 72%."
   ]
  },
  {
   "cell_type": "markdown",
   "id": "3c196138",
   "metadata": {},
   "source": [
    "## 6.2 Problems with Sparsity\n",
    "Sparse matrices can cause problems with regards to space and time complexity."
   ]
  },
  {
   "cell_type": "markdown",
   "id": "bbb6c90e",
   "metadata": {},
   "source": [
    "### 6.2.1 Space Complexity\n",
    "Very large matrices require a lot of memory, and some very large matrices that we wish to work with are sparse.\n",
    "\n",
    "> In practice, most large matrices are sparse — almost all entries are zeros.\n",
    ">\n",
    "> -- Page 465, *Introduction to Linear Algebra*, Fifth Edition, 2016.\n",
    "\n",
    "An example of a very large matrix that is too large to be stored in memory is a link matrix that shows the links from one website to another. An example of a smaller sparse matrix might be a word or term occurrence matrix for words in one book against all known words in English. In both cases, the matrix contained is sparse with many more zero values than data values. The problem with representing these sparse matrices as dense matrices is that memory is required and must be allocated for each 32-bit or even 64-bit zero value in the matrix. This is clearly a waste of memory resources as those zero values do not contain any information."
   ]
  },
  {
   "cell_type": "markdown",
   "id": "1061fa84",
   "metadata": {},
   "source": [
    "### 6.2.2 Time Complexity\n",
    "Assuming a very large sparse matrix can be fit into memory, we will want to perform operations on this matrix. Simply, if the matrix contains mostly zero-values, i.e. no data, then performing operations across this matrix may take a long time where the bulk of the computation performed will involve adding or multiplying zero values together.\n",
    "\n",
    "> It is wasteful to use general methods of linear algebra on such problems, because most of the $O(N^3)$ arithmetic operations devoted to solving the set of equations or inverting the matrix involve zero operands.\n",
    ">\n",
    "> -- Page 75, *Numerical Recipes: The Art of Scientific Computing*, Third Edition, 2007.\n",
    "\n",
    "This is a problem of increased time complexity of matrix operations that increases with the size of the matrix. This problem is compounded when we consider that even trivial machine learning methods may require many operations on each row, column, or even across the entire matrix, resulting in vastly longer execution times."
   ]
  },
  {
   "cell_type": "markdown",
   "id": "08a1eee6",
   "metadata": {},
   "source": [
    "## 6.3 Sparse Matrices in Machine Learning\n",
    "Sparse matrices turn up a lot in applied machine learning. In this section, we will look at some common examples to motivate you to be aware of the issues of sparsity."
   ]
  },
  {
   "cell_type": "markdown",
   "id": "3a85dd1b",
   "metadata": {},
   "source": [
    "### 6.3.1 Data\n",
    "Sparse matrices come up in some specific types of data, most notably observations that record the occurrence or count of an activity. Three examples include:\n",
    "- Whether or not a user has watched a movie in a movie catalog.\n",
    "- Whether or not a user has purchased a product in a product catalog.\n",
    "- Count of the number of listens of a song in a song catalog."
   ]
  },
  {
   "cell_type": "markdown",
   "id": "edf1e764",
   "metadata": {},
   "source": [
    "### 6.3.2 Data Preparation\n",
    "Sparse matrices come up in encoding schemes used in the preparation of data. Three common examples include:\n",
    "- One hot encoding, used to represent categorical data as sparse binary vectors.\n",
    "- Count encoding, used to represent the frequency of words in a vocabulary for a document.\n",
    "- TF-IDF encoding, used to represent normalized word frequency scores in a vocabulary."
   ]
  },
  {
   "cell_type": "markdown",
   "id": "c293346d",
   "metadata": {},
   "source": [
    "### 6.3.3 Areas of Study\n",
    "Some areas of study within machine learning must develop specialized methods to address sparsity directly as the input data is almost always sparse. Three examples include:\n",
    "\n",
    "- Natural language processing for working with documents of text.\n",
    "- Recommender systems for working with product usage within a catalog.\n",
    "- Computer vision when working with images that contain lots of black pixels.\n",
    "\n",
    "> If there are 100,000 words in the language model, then the feature vector has length 100,000, but for a short email message almost all the features will have count zero.\n",
    ">\n",
    "> -- Page 22, *Artificial Intelligence: A Modern Approach*, Third Edition, 2009."
   ]
  },
  {
   "cell_type": "markdown",
   "id": "7c3fb6a0",
   "metadata": {},
   "source": [
    "## 6.4 Working with Sparse Matrices\n",
    "The solution to representing and working with sparse matrices is to use an alternate data structure to represent the sparse data. The zero values can be ignored and only the data or non-zero values in the sparse matrix need to be stored or acted upon. There are multiple data structures that can be used to eﬃciently construct a sparse matrix; three common examples are listed below.\n",
    "\n",
    "- **Dictionary of Keys**. A dictionary is used where a row and column index is mapped to a value.\n",
    "- **List of Lists**. Each row of the matrix is stored as a list, with each sublist containing the column index and the value.\n",
    "- **Coordinate List**. A list of tuples is stored with each tuple containing the row index, column index, and the value.\n",
    "\n",
    "There are also data structures that are more suitable for performing eﬃcient operations; two commonly used examples are listed below.\n",
    "\n",
    "- **Compressed Sparse Row**. The sparse matrix is represented using three one-dimensional arrays for the non-zero values, the extents of the rows, and the column indexes.\n",
    "- **Compressed Sparse Column**. The same as the Compressed Sparse Row method except the column indices are compressed and read first before the row indices.\n",
    "\n",
    "The Compressed Sparse Row, also called CSR for short, is often used to represent sparse matrices in machine learning given the eﬃcient access and matrix multiplication that it supports."
   ]
  },
  {
   "cell_type": "markdown",
   "id": "2eef2cbe",
   "metadata": {},
   "source": [
    "## 6.5 Sparse Matrices in Python\n",
    "SciPy provides tools for creating sparse matrices using multiple data structures, as well as tools for converting a dense matrix to a sparse matrix. Many linear algebra NumPy and SciPy functions that operate on NumPy arrays can transparently operate on SciPy sparse arrays. Further, machine learning libraries that use NumPy data structures can also operate transparently on SciPy sparse arrays, such as scikit-learn for general machine learning and Keras for deep learning.\n",
    "\n",
    "A dense matrix stored in a NumPy array can be converted into a sparse matrix using the CSR representation by calling the csr `matrix()` function. In the example below, we define a 3×6 sparse matrix as a dense array (e.g. an `ndarray`), convert it to a CSR sparse representation, and then convert it back to a dense array by calling the `todense()` function."
   ]
  },
  {
   "cell_type": "code",
   "execution_count": 1,
   "id": "6db3de74",
   "metadata": {},
   "outputs": [
    {
     "name": "stdout",
     "output_type": "stream",
     "text": [
      "[[1 0 0 1 0 0]\n",
      " [0 0 2 0 0 1]\n",
      " [0 0 0 2 0 0]]\n",
      "<Compressed Sparse Row sparse matrix of dtype 'int64'\n",
      "\twith 5 stored elements and shape (3, 6)>\n",
      "  Coords\tValues\n",
      "  (0, 0)\t1\n",
      "  (0, 3)\t1\n",
      "  (1, 2)\t2\n",
      "  (1, 5)\t1\n",
      "  (2, 3)\t2\n",
      "[[1 0 0 1 0 0]\n",
      " [0 0 2 0 0 1]\n",
      " [0 0 0 2 0 0]]\n"
     ]
    }
   ],
   "source": [
    "# sparse matrix\n",
    "from numpy import array\n",
    "from scipy.sparse import csr_matrix\n",
    "# create dense matrix\n",
    "A = array([\n",
    "[1, 0, 0, 1, 0, 0],\n",
    "[0, 0, 2, 0, 0, 1],\n",
    "[0, 0, 0, 2, 0, 0]])\n",
    "print(A)\n",
    "# convert to sparse matrix (CSR method)\n",
    "S = csr_matrix(A)\n",
    "print(S)\n",
    "# reconstruct dense matrix\n",
    "B = S.todense()\n",
    "print(B)"
   ]
  },
  {
   "cell_type": "markdown",
   "id": "b2b014ea",
   "metadata": {},
   "source": [
    "NumPy does not provide a function to calculate the sparsity of a matrix. Nevertheless, we can calculate it easily by first finding the density of the matrix and subtracting it from one. The number of non-zero elements in a NumPy array can be given by the count `nonzero()` function and the total number of elements in the array can be given by the size property of the array.\n",
    "\n",
    "Array sparsity can therefore be calculated as:\n",
    "\n",
    "sparsity = 1.0 - count_nonzero(A) / A.size\n",
    "\n",
    "The example below demonstrates how to calculate the sparsity of an array."
   ]
  },
  {
   "cell_type": "code",
   "execution_count": 2,
   "id": "677be2ad",
   "metadata": {},
   "outputs": [
    {
     "name": "stdout",
     "output_type": "stream",
     "text": [
      "[[1 0 0 1 0 0]\n",
      " [0 0 2 0 0 1]\n",
      " [0 0 0 2 0 0]]\n",
      "0.7222222222222222\n"
     ]
    }
   ],
   "source": [
    "# sparsity calculation\n",
    "from numpy import array\n",
    "from numpy import count_nonzero\n",
    "# create dense matrix\n",
    "A = array([\n",
    "[1, 0, 0, 1, 0, 0],\n",
    "[0, 0, 2, 0, 0, 1],\n",
    "[0, 0, 0, 2, 0, 0]])\n",
    "print(A)\n",
    "# calculate sparsity\n",
    "sparsity = 1.0 - count_nonzero(A) / A.size\n",
    "print(sparsity)"
   ]
  }
 ],
 "metadata": {
  "kernelspec": {
   "display_name": "llm",
   "language": "python",
   "name": "python3"
  },
  "language_info": {
   "codemirror_mode": {
    "name": "ipython",
    "version": 3
   },
   "file_extension": ".py",
   "mimetype": "text/x-python",
   "name": "python",
   "nbconvert_exporter": "python",
   "pygments_lexer": "ipython3",
   "version": "3.13.3"
  }
 },
 "nbformat": 4,
 "nbformat_minor": 5
}
