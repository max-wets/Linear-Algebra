{
 "cells": [
  {
   "cell_type": "markdown",
   "id": "5d222a86",
   "metadata": {},
   "source": [
    "# 7. Tensors and Tensor Arithmetic\n",
    "In deep learning it is common to see a lot of discussion around tensors as the cornerstone data structure. Tensor even appears in name of Google’s flagship machine learning library: $TensorFlow$. Tensors are a type of data structure used in linear algebra, and like vectors and matrices, you can calculate arithmetic operations with tensors. In this tutorial, you will discover what tensors are and how to manipulate them in Python with NumPy. After completing this tutorial, you will know:\n",
    "\n",
    "- That tensors are a generalization of matrices and are represented using n-dimensional arrays.\n",
    "- How to implement element-wise operations with tensors.\n",
    "- How to perform the tensor product."
   ]
  },
  {
   "cell_type": "markdown",
   "id": "aee382bb",
   "metadata": {},
   "source": [
    "## 7.1 What are Tensors\n",
    "A tensor is a generalization of vectors and matrices and is easily understood as a multidimensional array.\n",
    "\n",
    "> In the general case, an array of numbers arranged on a regular grid with a variable number of axes is known as a tensor.\n",
    ">\n",
    "> -- Page 33, *Deep Learning*, 2016.\n",
    "\n",
    "A vector is a one-dimensional or first order tensor and a matrix is a two-dimensional or second order tensor. Tensor notation is much like matrix notation with a capital letter representing a tensor and lowercase letters with subscript integers representing scalar values within the tensor. For example, below defines a 3 × 3 × 3 three-dimensional tensor T with dimensions index as $t_{i,j,k}$.\n",
    "\n",
    "$T = \\begin{bmatrix} t_{1,1,1} & t_{1,2,1} & t_{1,3,1} \\\\ t_{2,1,1} & t_{2,2,1} & t_{2,3,1} \\\\ t_{3,1,1} & t_{3,2,1} & t_{3,3,1} \\end{bmatrix}, \\begin{bmatrix} t_{1,1,2} & t_{1,2,2} & t_{1,3,2} \\\\ t_{2,1,2} & t_{2,2,2} & t_{2,3,2} \\\\ t_{3,1,2} & t_{3,2,2} & t_{3,3,2} \\end{bmatrix}, \\begin{bmatrix} t_{1,1,3} & t_{1,2,3} & t_{1,3,3} \\\\ t_{2,1,3} & t_{2,2,3} & t_{2,3,3} \\\\ t_{3,1,3} & t_{3,2,3} & t_{3,3,3} \\end{bmatrix}$\n",
    "\n",
    "Many of the operations that can be performed with scalars, vectors, and matrices can be reformulated to be performed with tensors. As a tool, tensors and tensor algebra is widely used in the fields of physics and engineering. Some operations in machine learning such as the training and operation of deep learning models can be described in terms of tensors."
   ]
  },
  {
   "cell_type": "markdown",
   "id": "2c3d2d68",
   "metadata": {},
   "source": [
    "## 7.2 Tensors in Python\n",
    "Like vectors and matrices, tensors can be represented in Python using the N-dimensional array (`ndarray`). A tensor can be defined in-line to the constructor of `array()` as a list of lists. The example below defines a 3 × 3 × 3 tensor as a NumPy `ndarray`. Three dimensions is easier to wrap your head around. Here, we first define rows, then a list of rows stacked as columns, then a list of columns stacked as levels in a cube."
   ]
  },
  {
   "cell_type": "code",
   "execution_count": 1,
   "id": "4ad70a7d",
   "metadata": {},
   "outputs": [
    {
     "name": "stdout",
     "output_type": "stream",
     "text": [
      "(3, 3, 3)\n",
      "[[[ 1  2  3]\n",
      "  [ 4  5  6]\n",
      "  [ 7  8  9]]\n",
      "\n",
      " [[11 12 13]\n",
      "  [14 15 16]\n",
      "  [17 18 19]]\n",
      "\n",
      " [[21 22 23]\n",
      "  [24 25 26]\n",
      "  [27 28 29]]]\n"
     ]
    }
   ],
   "source": [
    "# create tensor\n",
    "from numpy import array\n",
    "T = array([\n",
    "[[1,2,3], [4,5,6], [7,8,9]],\n",
    "[[11,12,13], [14,15,16], [17,18,19]],\n",
    "[[21,22,23], [24,25,26], [27,28,29]]])\n",
    "print(T.shape)\n",
    "print(T)"
   ]
  },
  {
   "cell_type": "markdown",
   "id": "fc196c8d",
   "metadata": {},
   "source": [
    "![Visual representation of a 3D tensor](../_assets/3d_tensor_representation.jpg)"
   ]
  },
  {
   "cell_type": "markdown",
   "id": "97c36bcd",
   "metadata": {},
   "source": [
    "## 7.3 Tensor Arithmetic\n",
    "As with matrices, we can perform element-wise arithmetic between tensors. In this section, we will work through the four main arithmetic operations."
   ]
  },
  {
   "cell_type": "markdown",
   "id": "4d0a51a4",
   "metadata": {},
   "source": [
    "### 7.3.1 Tensor Addition\n",
    "The element-wise addition of two tensors with the same dimensions results in a new tensor with the same dimensions where each scalar value is the element-wise addition of the scalars in the parent tensors.\n",
    "\n",
    "$A = \\begin{bmatrix} a_{1,1,1} & a_{1,2,1} & a_{1,3,1} \\\\ a_{2,1,1} & a_{2,2,1} & a_{2,3,1} \\end{bmatrix}, \\begin{bmatrix} a_{1,1,2} & a_{1,2,2} & a_{1,3,2} \\\\ a_{2,1,2} & a_{2,2,2} & a_{2,3,2} \\end{bmatrix}$\n",
    "\n",
    "$B = \\begin{bmatrix} b_{1,1,1} & b_{1,2,1} & b_{1,3,1} \\\\ b_{2,1,1} & b_{2,2,1} & b_{2,3,1} \\end{bmatrix}, \\begin{bmatrix} b_{1,1,2} & b_{1,2,2} & b_{1,3,2} \\\\ b_{2,1,2} & b_{2,2,2} & b_{2,3,2} \\end{bmatrix}$\n",
    "\n",
    "$C = A + B$\n",
    "\n",
    "$C = \\begin{bmatrix} a_{1,1,1} + b_{1,1,1} & a_{1,2,1} + b_{1,2,1} & a_{1,3,1} + b_{1,3,1} \\\\ a_{2,1,1} + b_{2,1,1} & a_{2,2,1} + b_{2,2,1} & a_{2,3,1} + b_{2,3,1} \\end{bmatrix}, \\begin{bmatrix} a_{1,1,2} + b_{1,1,2} & a_{1,2,2} + b_{1,2,2} & a_{1,3,2} + b_{1,3,2} \\\\ a_{2,1,2} + b_{2,1,2} & a_{2,2,2} + b_{2,2,2} & a_{2,3,2} + b_{2,3,2} \\end{bmatrix}$\n",
    "\n",
    "In NumPy, we can add tensors directly by adding arrays."
   ]
  },
  {
   "cell_type": "code",
   "execution_count": 2,
   "id": "a9849eef",
   "metadata": {},
   "outputs": [
    {
     "name": "stdout",
     "output_type": "stream",
     "text": [
      "[[[ 2  4  6]\n",
      "  [ 8 10 12]\n",
      "  [14 16 18]]\n",
      "\n",
      " [[22 24 26]\n",
      "  [28 30 32]\n",
      "  [34 36 38]]\n",
      "\n",
      " [[42 44 46]\n",
      "  [48 50 52]\n",
      "  [54 56 58]]]\n"
     ]
    }
   ],
   "source": [
    "# tensor addition\n",
    "from numpy import array\n",
    "# define first tensor\n",
    "A = array([\n",
    "[[1,2,3], [4,5,6], [7,8,9]],\n",
    "[[11,12,13], [14,15,16], [17,18,19]],\n",
    "[[21,22,23], [24,25,26], [27,28,29]]])\n",
    "# define second tensor\n",
    "B = array([\n",
    "[[1,2,3], [4,5,6], [7,8,9]],\n",
    "[[11,12,13], [14,15,16], [17,18,19]],\n",
    "[[21,22,23], [24,25,26], [27,28,29]]])\n",
    "# add tensors\n",
    "C = A + B\n",
    "print(C)"
   ]
  },
  {
   "cell_type": "markdown",
   "id": "58fa98e2",
   "metadata": {},
   "source": [
    "### 7.3.2 Tensor Subtraction\n",
    "The element-wise subtraction of one tensor from another tensor with the same dimensions results in a new tensor with the same dimensions where each scalar value is the element-wise subtraction of the scalars in the parent tensors.\n",
    "\n",
    "$A = \\begin{bmatrix} a_{1,1,1} & a_{1,2,1} & a_{1,3,1} \\\\ a_{2,1,1} & a_{2,2,1} & a_{2,3,1} \\end{bmatrix}, \\begin{bmatrix} a_{1,1,2} & a_{1,2,2} & a_{1,3,2} \\\\ a_{2,1,2} & a_{2,2,2} & a_{2,3,2} \\end{bmatrix}$\n",
    "\n",
    "$B = \\begin{bmatrix} b_{1,1,1} & b_{1,2,1} & b_{1,3,1} \\\\ b_{2,1,1} & b_{2,2,1} & b_{2,3,1} \\end{bmatrix}, \\begin{bmatrix} b_{1,1,2} & b_{1,2,2} & b_{1,3,2} \\\\ b_{2,1,2} & b_{2,2,2} & b_{2,3,2} \\end{bmatrix}$\n",
    "\n",
    "$C = A - B$\n",
    "\n",
    "$C = \\begin{bmatrix} a_{1,1,1} - b_{1,1,1} & a_{1,2,1} - b_{1,2,1} & a_{1,3,1} - b_{1,3,1} \\\\ a_{2,1,1} - b_{2,1,1} & a_{2,2,1} - b_{2,2,1} & a_{2,3,1} - b_{2,3,1} \\end{bmatrix}, \\begin{bmatrix} a_{1,1,2} - b_{1,1,2} & a_{1,2,2} - b_{1,2,2} & a_{1,3,2} - b_{1,3,2} \\\\ a_{2,1,2} - b_{2,1,2} & a_{2,2,2} - b_{2,2,2} & a_{2,3,2} - b_{2,3,2} \\end{bmatrix}$\n",
    "\n",
    "In NumPy, we can subtract tensors directly by subtracting arrays."
   ]
  },
  {
   "cell_type": "code",
   "execution_count": 3,
   "id": "4b9d0a36",
   "metadata": {},
   "outputs": [
    {
     "name": "stdout",
     "output_type": "stream",
     "text": [
      "[[[0 0 0]\n",
      "  [0 0 0]\n",
      "  [0 0 0]]\n",
      "\n",
      " [[0 0 0]\n",
      "  [0 0 0]\n",
      "  [0 0 0]]\n",
      "\n",
      " [[0 0 0]\n",
      "  [0 0 0]\n",
      "  [0 0 0]]]\n"
     ]
    }
   ],
   "source": [
    "# tensor subtraction\n",
    "from numpy import array\n",
    "# define first tensor\n",
    "A = array([\n",
    "[[1,2,3], [4,5,6], [7,8,9]],\n",
    "[[11,12,13], [14,15,16], [17,18,19]],\n",
    "[[21,22,23], [24,25,26], [27,28,29]]])\n",
    "# define second tensor\n",
    "B = array([\n",
    "[[1,2,3], [4,5,6], [7,8,9]],\n",
    "[[11,12,13], [14,15,16], [17,18,19]],\n",
    "[[21,22,23], [24,25,26], [27,28,29]]])\n",
    "# subtract tensors\n",
    "C = A - B\n",
    "print(C)"
   ]
  },
  {
   "cell_type": "markdown",
   "id": "07598917",
   "metadata": {},
   "source": [
    "### 7.3.3 Tensor Hadamard Product\n",
    "The element-wise multiplication of one tensor with another tensor with the same dimensions results in a new tensor with the same dimensions where each scalar value is the element-wise multiplication of the scalars in the parent tensors. As with matrices, the operation is referred to as the Hadamard Product to diﬀerentiate it from tensor multiplication. Here, we will use the ◦ operator to indicate the Hadamard product operation between tensors.\n",
    "\n",
    "$A = \\begin{bmatrix} a_{1,1,1} & a_{1,2,1} & a_{1,3,1} \\\\ a_{2,1,1} & a_{2,2,1} & a_{2,3,1} \\end{bmatrix}, \\begin{bmatrix} a_{1,1,2} & a_{1,2,2} & a_{1,3,2} \\\\ a_{2,1,2} & a_{2,2,2} & a_{2,3,2} \\end{bmatrix}$\n",
    "\n",
    "$B = \\begin{bmatrix} b_{1,1,1} & b_{1,2,1} & b_{1,3,1} \\\\ b_{2,1,1} & b_{2,2,1} & b_{2,3,1} \\end{bmatrix}, \\begin{bmatrix} b_{1,1,2} & b_{1,2,2} & b_{1,3,2} \\\\ b_{2,1,2} & b_{2,2,2} & b_{2,3,2} \\end{bmatrix}$\n",
    "\n",
    "$C = A ◦ B$\n",
    "\n",
    "$C = \\begin{bmatrix} a_{1,1,1} \\times b_{1,1,1} & a_{1,2,1} \\times b_{1,2,1} & a_{1,3,1} \\times b_{1,3,1} \\\\ a_{2,1,1} \\times b_{2,1,1} & a_{2,2,1} \\times b_{2,2,1} & a_{2,3,1} \\times b_{2,3,1} \\end{bmatrix}, \\begin{bmatrix} a_{1,1,2} \\times b_{1,1,2} & a_{1,2,2} \\times b_{1,2,2} & a_{1,3,2} \\times b_{1,3,2} \\\\ a_{2,1,2} \\times b_{2,1,2} & a_{2,2,2} \\times b_{2,2,2} & a_{2,3,2} \\times b_{2,3,2} \\end{bmatrix}$\n",
    "\n",
    "In NumPy, we can multiply tensors directly by multiplying arrays."
   ]
  },
  {
   "cell_type": "code",
   "execution_count": 4,
   "id": "4c8a894e",
   "metadata": {},
   "outputs": [
    {
     "name": "stdout",
     "output_type": "stream",
     "text": [
      "[[[  1   4   9]\n",
      "  [ 16  25  36]\n",
      "  [ 49  64  81]]\n",
      "\n",
      " [[121 144 169]\n",
      "  [196 225 256]\n",
      "  [289 324 361]]\n",
      "\n",
      " [[441 484 529]\n",
      "  [576 625 676]\n",
      "  [729 784 841]]]\n"
     ]
    }
   ],
   "source": [
    "# tensor Hadamard product\n",
    "from numpy import array\n",
    "# define first tensor\n",
    "A = array([\n",
    "[[1,2,3], [4,5,6], [7,8,9]],\n",
    "[[11,12,13], [14,15,16], [17,18,19]],\n",
    "[[21,22,23], [24,25,26], [27,28,29]]])\n",
    "# define second tensor\n",
    "B = array([\n",
    "[[1,2,3], [4,5,6], [7,8,9]],\n",
    "[[11,12,13], [14,15,16], [17,18,19]],\n",
    "[[21,22,23], [24,25,26], [27,28,29]]])\n",
    "# multiply tensors\n",
    "C = A * B\n",
    "print(C)"
   ]
  },
  {
   "cell_type": "markdown",
   "id": "30b1a01e",
   "metadata": {},
   "source": [
    "### 7.3.4 Tensor Division\n",
    "The element-wise division of one tensor with another tensor with the same dimensions results in a new tensor with the same dimensions where each scalar value is the element-wise division of the scalars in the parent tensors.\n",
    "\n",
    "$A = \\begin{bmatrix} a_{1,1,1} & a_{1,2,1} & a_{1,3,1} \\\\ a_{2,1,1} & a_{2,2,1} & a_{2,3,1} \\end{bmatrix}, \\begin{bmatrix} a_{1,1,2} & a_{1,2,2} & a_{1,3,2} \\\\ a_{2,1,2} & a_{2,2,2} & a_{2,3,2} \\end{bmatrix}$\n",
    "\n",
    "$B = \\begin{bmatrix} b_{1,1,1} & b_{1,2,1} & b_{1,3,1} \\\\ b_{2,1,1} & b_{2,2,1} & b_{2,3,1} \\end{bmatrix}, \\begin{bmatrix} b_{1,1,2} & b_{1,2,2} & b_{1,3,2} \\\\ b_{2,1,2} & b_{2,2,2} & b_{2,3,2} \\end{bmatrix}$\n",
    "\n",
    "$C = A / B$\n",
    "\n",
    "$C = \\begin{bmatrix} \\frac{a_{1,1,1}}{b_{1,1,1}} & \\frac{a_{1,2,1}}{b_{1,2,1}} & \\frac{a_{1,3,1}}{b_{1,3,1}} \\\\ \\frac{a_{2,1,1}}{b_{2,1,1}} & \\frac{a_{2,2,1}}{b_{2,2,1}} & \\frac{a_{2,3,1}}{b_{2,3,1}} \\end{bmatrix}, \\begin{bmatrix} \\frac{a_{1,1,2}}{b_{1,1,2}} & \\frac{a_{1,2,2}}{b_{1,2,2}} & \\frac{a_{1,3,2}}{b_{1,3,2}} \\\\ \\frac{a_{2,1,2}}{b_{2,1,2}} & \\frac{a_{2,2,2}}{b_{2,2,2}} & \\frac{a_{2,3,2}}{b_{2,3,2}} \\end{bmatrix}$\n",
    "\n",
    "In NumPy, we can divide tensors directly by dividing arrays."
   ]
  },
  {
   "cell_type": "code",
   "execution_count": 5,
   "id": "c6d6c8b1",
   "metadata": {},
   "outputs": [
    {
     "name": "stdout",
     "output_type": "stream",
     "text": [
      "[[[1. 1. 1.]\n",
      "  [1. 1. 1.]\n",
      "  [1. 1. 1.]]\n",
      "\n",
      " [[1. 1. 1.]\n",
      "  [1. 1. 1.]\n",
      "  [1. 1. 1.]]\n",
      "\n",
      " [[1. 1. 1.]\n",
      "  [1. 1. 1.]\n",
      "  [1. 1. 1.]]]\n"
     ]
    }
   ],
   "source": [
    "# tensor division\n",
    "from numpy import array\n",
    "# define first tensor\n",
    "A = array([\n",
    "[[1,2,3], [4,5,6], [7,8,9]],\n",
    "[[11,12,13], [14,15,16], [17,18,19]],\n",
    "[[21,22,23], [24,25,26], [27,28,29]]])\n",
    "# define second tensor\n",
    "B = array([\n",
    "[[1,2,3], [4,5,6], [7,8,9]],\n",
    "[[11,12,13], [14,15,16], [17,18,19]],\n",
    "[[21,22,23], [24,25,26], [27,28,29]]])\n",
    "# divide tensors\n",
    "C = A / B\n",
    "print(C)"
   ]
  },
  {
   "cell_type": "markdown",
   "id": "10d4145c",
   "metadata": {},
   "source": [
    "## 7.4 Tensor Product\n",
    "The tensor product operator is often denoted as a circle with a small $x$ in the middle. We will denote it here as $⊗$. Given a tensor $A$ with $q$ dimensions and tensor $B$ with $r$ dimensions, the product of these tensors will be a new tensor with the order of $q + r$ or, said another way, $q + r$ dimensions. The tensor product is not limited to tensors, but can also be performed on matrices and vectors, which can be a good place to practice in order to develop the intuition for higher dimensions. Let’s take a look at the tensor product for vectors.\n",
    "\n",
    "$a = \\begin{pmatrix} a_1 \\cr a_2 \\end{pmatrix}$\n",
    "\n",
    "$b = \\begin{pmatrix} b_1 \\cr b_2 \\end{pmatrix}$\n",
    "\n",
    "$C= a ⊗ b$\n",
    "\n",
    "$C = \\begin{bmatrix} a_1 \\times \\begin{pmatrix} b_1 \\cr b_2 \\end{pmatrix} \\\\ a_2 \\times \\begin{pmatrix} b_1 \\cr b_2 \\end{pmatrix} \\end{bmatrix}$\n",
    "\n",
    "Or, unrolled:\n",
    "\n",
    "$C = \\begin{bmatrix} a_1 \\times b_1 & a_1 \\times b_2 \\\\ a_2 \\times b_1 & a_2 \\times b_2 \\end{bmatrix}$\n",
    "\n",
    "Let’s take a look at the tensor product for matrices.\n",
    "\n",
    "$A = \\begin{bmatrix} a_{1,1} & a_{1,2} \\\\ a_{2,1} & a_{2,2} \\end{bmatrix}$\n",
    "\n",
    "$B = \\begin{bmatrix} b_{1,1} & b_{1,2} \\\\ b_{2,1} & b_{2,2} \\end{bmatrix}$\n",
    "\n",
    "$C= A ⊗ B$\n",
    "\n",
    "$C = \\begin{bmatrix} a_{1,1} \\times \\begin{bmatrix} b_{1,1} & b_{1,2} \\\\ b_{2,1} & b_{2,2} \\end{bmatrix} & a_{1,2} \\times \\begin{bmatrix} b_{1,1} & b_{1,2} \\\\ b_{2,1} & b_{2,2} \\end{bmatrix} \\\\ a_{2,1} \\times \\begin{bmatrix} b_{1,1} & b_{1,2} \\\\ b_{2,1} & b_{2,2} \\end{bmatrix} & a_{2,2} \\times \\begin{bmatrix} b_{1,1} & b_{1,2} \\\\ b_{2,1} & b_{2,2} \\end{bmatrix} \\end{bmatrix}$\n",
    "\n",
    "Or, unrolled:\n",
    "\n",
    "$C = \\begin{bmatrix} a_{1,1} \\times b_{1,1} & a_{1,1} \\times b_{1,2} & a_{1,2} \\times b_{1,1} & a_{1,2} \\times b_{1,2} \\\\ a_{1,1} \\times b_{2,1} & a_{1,1} \\times b_{2,2} & a_{1,2} \\times b_{2,1} & a_{1,2} \\times b_{2,2} \\\\ a_{2,1} \\times b_{1,1} & a_{2,1} \\times b_{1,2} & a_{2,2} \\times b_{1,1} & a_{2,2} \\times b_{1,2} \\\\ a_{2,1} \\times b_{2,1} & a_{2,1} \\times b_{2,2} & a_{2,2} \\times b_{2,1} & a_{2,2} \\times b_{2,2} \\end{bmatrix}$\n",
    "\n",
    "The tensor product can be implemented in NumPy using the `tensordot()` function. The function takes as arguments the two tensors to be multiplied and the axis on which to sum the products over, called the sum reduction. To calculate the tensor product, also called the tensor dot product in NumPy, the axis must be set to 0. In the example below, we define two order-1 tensors (vectors) with and calculate the tensor product.\n"
   ]
  },
  {
   "cell_type": "code",
   "execution_count": 6,
   "id": "be269746",
   "metadata": {},
   "outputs": [
    {
     "name": "stdout",
     "output_type": "stream",
     "text": [
      "[[3 4]\n",
      " [6 8]]\n"
     ]
    }
   ],
   "source": [
    "# tensor product\n",
    "from numpy import array\n",
    "from numpy import tensordot\n",
    "# define first vector\n",
    "A = array([1,2])\n",
    "# define second vector\n",
    "B = array([3,4])\n",
    "# calculate tensor product\n",
    "C = tensordot(A, B, axes=0)\n",
    "print(C)"
   ]
  },
  {
   "cell_type": "markdown",
   "id": "ea2d7107",
   "metadata": {},
   "source": [
    "The tensor product is the most common form of tensor multiplication that you may encounter, but there are many other types of tensor multiplications that exist, such as the tensor dot product and the tensor contraction."
   ]
  }
 ],
 "metadata": {
  "kernelspec": {
   "display_name": "llm",
   "language": "python",
   "name": "python3"
  },
  "language_info": {
   "codemirror_mode": {
    "name": "ipython",
    "version": 3
   },
   "file_extension": ".py",
   "mimetype": "text/x-python",
   "name": "python",
   "nbconvert_exporter": "python",
   "pygments_lexer": "ipython3",
   "version": "3.13.3"
  }
 },
 "nbformat": 4,
 "nbformat_minor": 5
}
